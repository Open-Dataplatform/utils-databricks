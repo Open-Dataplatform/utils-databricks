{
    "metadata": {
        "kernelspec": {
            "name": "SQL",
            "display_name": "SQL",
            "language": "sql"
        },
        "language_info": {
            "name": "sql",
            "version": ""
        },
        "application/vnd.databricks.v1+notebook": {
            "dashboards": [],
            "environmentMetadata": {
                "base_environment": "",
                "client": "1"
            },
            "language": "python",
            "notebookMetadata": {
                "mostRecentlyExecutedCommandWithImplicitDF": {
                    "commandId": 3442608677063647,
                    "dataframes": [
                        "_sqldf"
                    ]
                },
                "pythonIndentUnit": 4
            },
            "notebookName": "s-data_group__entityname",
            "widgets": {
                "DepthLevel": {
                    "currentValue": "1",
                    "nuid": "a243f59a-499e-4691-a947-f10921b8e64c",
                    "typedWidgetInfo": {
                        "autoCreated": false,
                        "defaultValue": "",
                        "label": "Depth Level",
                        "name": "DepthLevel",
                        "options": {
                            "widgetDisplayType": "Text",
                            "validationRegex": null
                        },
                        "parameterDataType": "String"
                    },
                    "widgetInfo": {
                        "widgetType": "text",
                        "defaultValue": "",
                        "label": "Depth Level",
                        "name": "DepthLevel",
                        "options": {
                            "widgetType": "text",
                            "autoCreated": null,
                            "validationRegex": null
                        }
                    }
                },
                "DestinationStorageAccount": {
                    "currentValue": "dpuniformstoragetest",
                    "nuid": "f9bda907-b660-4235-83fc-c51e480d7921",
                    "typedWidgetInfo": {
                        "autoCreated": false,
                        "defaultValue": "dpuniformstoragetest",
                        "label": "Destination Storage Account",
                        "name": "DestinationStorageAccount",
                        "options": {
                            "widgetDisplayType": "Text",
                            "validationRegex": null
                        },
                        "parameterDataType": "String"
                    },
                    "widgetInfo": {
                        "widgetType": "text",
                        "defaultValue": "dpuniformstoragetest",
                        "label": "Destination Storage Account",
                        "name": "DestinationStorageAccount",
                        "options": {
                            "widgetType": "text",
                            "autoCreated": null,
                            "validationRegex": null
                        }
                    }
                },
                "FeedbackColumn": {
                    "currentValue": "EventTimestamp",
                    "nuid": "cd30b1cc-4e51-49f6-aa6e-cc35459dd889",
                    "typedWidgetInfo": {
                        "autoCreated": false,
                        "defaultValue": "EventTimestamp",
                        "label": "Feedback Column",
                        "name": "FeedbackColumn",
                        "options": {
                            "widgetDisplayType": "Text",
                            "validationRegex": null
                        },
                        "parameterDataType": "String"
                    },
                    "widgetInfo": {
                        "widgetType": "text",
                        "defaultValue": "EventTimestamp",
                        "label": "Feedback Column",
                        "name": "FeedbackColumn",
                        "options": {
                            "widgetType": "text",
                            "autoCreated": null,
                            "validationRegex": null
                        }
                    }
                },
                "KeyColumns": {
                    "currentValue": "Guid",
                    "nuid": "f35480ff-4280-4b76-92c5-d15295b4ea31",
                    "typedWidgetInfo": {
                        "autoCreated": false,
                        "defaultValue": "Guid",
                        "label": "Key Columns",
                        "name": "KeyColumns",
                        "options": {
                            "widgetDisplayType": "Text",
                            "validationRegex": null
                        },
                        "parameterDataType": "String"
                    },
                    "widgetInfo": {
                        "widgetType": "text",
                        "defaultValue": "Guid",
                        "label": "Key Columns",
                        "name": "KeyColumns",
                        "options": {
                            "widgetType": "text",
                            "autoCreated": null,
                            "validationRegex": null
                        }
                    }
                },
                "SchemaFolderName": {
                    "currentValue": "schemachecks",
                    "nuid": "3ca4efd4-f1cf-4e05-918f-4afdb030ca3d",
                    "typedWidgetInfo": {
                        "autoCreated": false,
                        "defaultValue": "schemachecks",
                        "label": "Schema Folder Name",
                        "name": "SchemaFolderName",
                        "options": {
                            "widgetDisplayType": "Text",
                            "validationRegex": null
                        },
                        "parameterDataType": "String"
                    },
                    "widgetInfo": {
                        "widgetType": "text",
                        "defaultValue": "schemachecks",
                        "label": "Schema Folder Name",
                        "name": "SchemaFolderName",
                        "options": {
                            "widgetType": "text",
                            "autoCreated": null,
                            "validationRegex": null
                        }
                    }
                },
                "SourceContainer": {
                    "currentValue": "landing",
                    "nuid": "07b4d523-cee9-437a-ae7a-46fa08d107fd",
                    "typedWidgetInfo": {
                        "autoCreated": false,
                        "defaultValue": "landing",
                        "label": "Source Container",
                        "name": "SourceContainer",
                        "options": {
                            "widgetDisplayType": "Text",
                            "validationRegex": null
                        },
                        "parameterDataType": "String"
                    },
                    "widgetInfo": {
                        "widgetType": "text",
                        "defaultValue": "landing",
                        "label": "Source Container",
                        "name": "SourceContainer",
                        "options": {
                            "widgetType": "text",
                            "autoCreated": null,
                            "validationRegex": null
                        }
                    }
                },
                "SourceDatasetidentifier": {
                    "currentValue": "triton__flow_plans",
                    "nuid": "35e7726b-82ab-4d0c-a01c-4d1974e3aa4e",
                    "typedWidgetInfo": {
                        "autoCreated": false,
                        "defaultValue": "triton__flow_plans",
                        "label": "Source Datasetidentifier",
                        "name": "SourceDatasetidentifier",
                        "options": {
                            "widgetDisplayType": "Text",
                            "validationRegex": null
                        },
                        "parameterDataType": "String"
                    },
                    "widgetInfo": {
                        "widgetType": "text",
                        "defaultValue": "triton__flow_plans",
                        "label": "Source Datasetidentifier",
                        "name": "SourceDatasetidentifier",
                        "options": {
                            "widgetType": "text",
                            "autoCreated": null,
                            "validationRegex": null
                        }
                    }
                },
                "SourceFileName": {
                    "currentValue": "triton__flow_plans-20240820*.json",
                    "nuid": "d08a3208-5e77-4e76-9675-792aa688c1b1",
                    "typedWidgetInfo": {
                        "autoCreated": false,
                        "defaultValue": "*",
                        "label": "Source File Name",
                        "name": "SourceFileName",
                        "options": {
                            "widgetDisplayType": "Text",
                            "validationRegex": null
                        },
                        "parameterDataType": "String"
                    },
                    "widgetInfo": {
                        "widgetType": "text",
                        "defaultValue": "*",
                        "label": "Source File Name",
                        "name": "SourceFileName",
                        "options": {
                            "widgetType": "text",
                            "autoCreated": null,
                            "validationRegex": null
                        }
                    }
                },
                "SourceStorageAccount": {
                    "currentValue": "dplandingstoragetest",
                    "nuid": "b6200beb-3d4b-404c-bd3c-5d37816a6007",
                    "typedWidgetInfo": {
                        "autoCreated": false,
                        "defaultValue": "dplandingstoragetest",
                        "label": "Source Storage Account",
                        "name": "SourceStorageAccount",
                        "options": {
                            "widgetDisplayType": "Text",
                            "validationRegex": null
                        },
                        "parameterDataType": "String"
                    },
                    "widgetInfo": {
                        "widgetType": "text",
                        "defaultValue": "dplandingstoragetest",
                        "label": "Source Storage Account",
                        "name": "SourceStorageAccount",
                        "options": {
                            "widgetType": "text",
                            "autoCreated": null,
                            "validationRegex": null
                        }
                    }
                }
            }
        },
        "extensions": {
            "azuredatastudio": {
                "version": 1,
                "views": []
            }
        }
    },
    "nbformat_minor": 2,
    "nbformat": 4,
    "cells": [
        {
            "cell_type": "markdown",
            "source": [
                "\n",
                "# JSON Standardization and Flattening\n",
                "This notebook is responsible for standardizing and flattening JSON files. It reads the raw JSON data from the landing zone, applies a schema for validation, flattens nested structures, and then writes the transformed data as Delta Parquet files.\n",
                "\n",
                "Key Features:\n",
                "- Reads JSON files from the landing zone.\n",
                "- Applies a predefined schema for data validation (ensure the schema file is available at landing/schemachecks/[datasetidentifier]/[datasetidentifier]_schema.json).\n",
                "- Flattens nested JSON structures for easier querying and analysis.\n",
                "- Saves the processed data as Delta Parquet files for efficient storage and querying."
            ],
            "metadata": {
                "application/vnd.databricks.v1+cell": {
                    "cellMetadata": {},
                    "inputWidgets": {},
                    "nuid": "885d4802-5384-48d9-84d9-003537edafd0",
                    "showTitle": false,
                    "title": ""
                },
                "extensions": {
                    "azuredatastudio": {
                        "views": []
                    }
                },
                "azdata_cell_guid": "6aed46ae-878d-4479-92b7-6e3b02ca2a4f"
            }
        },
        {
            "cell_type": "markdown",
            "source": [
                "## Widget Initialization and Configuration"
            ],
            "metadata": {
                "application/vnd.databricks.v1+cell": {
                    "cellMetadata": {},
                    "inputWidgets": {},
                    "nuid": "4dbb37ce-38e1-411b-aa60-83670517ba13",
                    "showTitle": false,
                    "title": ""
                },
                "extensions": {
                    "azuredatastudio": {
                        "views": []
                    }
                },
                "azdata_cell_guid": "834bdb7b-b4d5-47ee-8280-46d46170da3a"
            }
        },
        {
            "cell_type": "code",
            "source": [
                "# Source and Destination Storage Accounts\n",
                "dbutils.widgets.text(\"SourceStorageAccount\", \"dplandingstoragetest\", \"Source Storage Account\")\n",
                "dbutils.widgets.text(\"DestinationStorageAccount\", \"dpuniformstoragetest\", \"Destination Storage Account\")\n",
                "\n",
                "# Source container and dataset identifier\n",
                "dbutils.widgets.text(\"SourceContainer\", \"landing\", \"Source Container\")\n",
                "dbutils.widgets.text(\"SourceDatasetidentifier\", \"triton__flow_plans\", \"Source Datasetidentifier\")\n",
                "\n",
                "# Source file and key columns\n",
                "dbutils.widgets.text(\"SourceFileName\", \"*\", \"Source File Name\")\n",
                "dbutils.widgets.text(\"KeyColumns\", \"Guid\", \"Key Columns\")\n",
                "\n",
                "# Feedback column and flattening option\n",
                "dbutils.widgets.text(\"FeedbackColumn\", \"EventTimestamp\", \"Feedback Column\")\n",
                "dbutils.widgets.text(\"DepthLevel\", \"\", \"Depth Level\")\n",
                "dbutils.widgets.text(\"SchemaFolderName\", \"schemachecks\", \"Schema Folder Name\")"
            ],
            "metadata": {
                "application/vnd.databricks.v1+cell": {
                    "cellMetadata": {
                        "byteLimit": 2048000,
                        "rowLimit": 10000
                    },
                    "inputWidgets": {},
                    "nuid": "94264441-9229-46de-9ba8-6c8bdff25add",
                    "showTitle": false,
                    "title": ""
                },
                "extensions": {
                    "azuredatastudio": {
                        "views": []
                    }
                },
                "azdata_cell_guid": "16c180bd-ef05-4134-84a6-92a8350789ee"
            },
            "outputs": [
                {
                    "output_type": "display_data",
                    "data": {
                        "text/html": "<style scoped>\n  .ansiout {\n    display: block;\n    unicode-bidi: embed;\n    white-space: pre-wrap;\n    word-wrap: break-word;\n    word-break: break-all;\n    font-family: \"Menlo\", \"Monaco\", \"Consolas\", \"Ubuntu Mono\", \"Source Code Pro\", monospace;\n    font-size: 13px;\n    color: #555;\n    margin-left: 4px;\n    line-height: 19px;\n  }\n</style>\n<div class=\"ansiout\"></div>"
                    },
                    "metadata": {
                        "application/vnd.databricks.v1+output": {
                            "addedWidgets": {},
                            "arguments": {},
                            "data": "<div class=\"ansiout\"></div>",
                            "datasetInfos": [],
                            "metadata": {},
                            "removedWidgets": [],
                            "type": "html"
                        }
                    }
                }
            ],
            "execution_count": null
        },
        {
            "cell_type": "markdown",
            "source": [
                "## Setup"
            ],
            "metadata": {
                "application/vnd.databricks.v1+cell": {
                    "cellMetadata": {},
                    "inputWidgets": {},
                    "nuid": "88bd02df-807a-4166-a189-2a088dddc7d1",
                    "showTitle": false,
                    "title": ""
                },
                "extensions": {
                    "azuredatastudio": {
                        "views": []
                    }
                },
                "azdata_cell_guid": "d43695fa-a44b-41f9-aba5-857ca2f79505"
            }
        },
        {
            "cell_type": "markdown",
            "source": [
                "### Package Installation and Management"
            ],
            "metadata": {
                "application/vnd.databricks.v1+cell": {
                    "cellMetadata": {},
                    "inputWidgets": {},
                    "nuid": "902db38c-d74e-4531-8935-0360c9336e03",
                    "showTitle": false,
                    "title": ""
                },
                "extensions": {
                    "azuredatastudio": {
                        "views": []
                    }
                },
                "azdata_cell_guid": "5b2196bf-49df-42aa-b999-29a11fedf20d"
            }
        },
        {
            "cell_type": "code",
            "source": [
                "# Install necessary packages\n",
                "# Ensure to use the specific versions needed.\n",
                "\n",
                "# Uninstall the existing package version (uncomment if a previous version is present).\n",
                "# %pip uninstall databricks-custom-utils -y\n",
                "\n",
                "# Install the package from the GitHub repository's specified branch.\n",
                "%pip install --force-reinstall git+https://github.com/xazms/utils-databricks.git@v0.6.4\n",
                "%pip install sqlparse"
            ],
            "metadata": {
                "application/vnd.databricks.v1+cell": {
                    "cellMetadata": {
                        "byteLimit": 2048000,
                        "rowLimit": 10000
                    },
                    "collapsed": true,
                    "inputWidgets": {},
                    "nuid": "d4f7118a-4054-4e28-ac04-c9942b9622c3",
                    "showTitle": false,
                    "title": ""
                },
                "extensions": {
                    "azuredatastudio": {
                        "views": []
                    }
                },
                "azdata_cell_guid": "df8151d3-836b-4713-be58-0bb1254daacc"
            },
            "outputs": [],
            "execution_count": null
        },
        {
            "cell_type": "markdown",
            "source": [
                "### Initialize notebook and get parameters"
            ],
            "metadata": {
                "application/vnd.databricks.v1+cell": {
                    "cellMetadata": {},
                    "inputWidgets": {},
                    "nuid": "9fe0fe40-e8a1-4a4a-98a2-d426bdf66636",
                    "showTitle": false,
                    "title": ""
                },
                "extensions": {
                    "azuredatastudio": {
                        "views": []
                    }
                },
                "azdata_cell_guid": "872114e8-c56e-42e4-90d6-856701c6db1f"
            }
        },
        {
            "cell_type": "code",
            "source": [
                "from custom_utils.config.config import Config\n",
                "\n",
                "# Initialize the Config object (Spark session is now auto-initialized inside Config)\n",
                "config = Config.initialize(dbutils=dbutils, debug=True)\n",
                "\n",
                "# Unpack parameters into the current scope\n",
                "config.unpack(globals())"
            ],
            "metadata": {
                "application/vnd.databricks.v1+cell": {
                    "cellMetadata": {
                        "byteLimit": 2048000,
                        "rowLimit": 10000
                    },
                    "inputWidgets": {},
                    "nuid": "f980a4d9-91ac-493f-8ba4-c52a8914d029",
                    "showTitle": false,
                    "title": ""
                },
                "extensions": {
                    "azuredatastudio": {
                        "views": []
                    }
                },
                "azdata_cell_guid": "cd04bb11-ea2a-42aa-a11d-3adca6f713d7"
            },
            "outputs": [],
            "execution_count": null
        },
        {
            "cell_type": "markdown",
            "source": [
                "### Verify paths and files"
            ],
            "metadata": {
                "application/vnd.databricks.v1+cell": {
                    "cellMetadata": {},
                    "inputWidgets": {},
                    "nuid": "a894f790-a8c1-4be8-bff3-e6ec2a87ae19",
                    "showTitle": false,
                    "title": ""
                },
                "extensions": {
                    "azuredatastudio": {
                        "views": []
                    }
                },
                "azdata_cell_guid": "444a6a56-2ca6-4974-b393-f629c760cd6f"
            }
        },
        {
            "cell_type": "code",
            "source": [
                "from custom_utils.validation.validation import Validator\n",
                "\n",
                "# Initialize the Validator with the provided configuration and logger\n",
                "validator = Validator(config, logger=logger, debug=True)\n",
                "\n",
                "# Perform validation of schema and source paths, returning validated paths and file type.\n",
                "schema_file_path, data_file_path, matched_files, file_type = validator.verify_paths_and_files()"
            ],
            "metadata": {
                "application/vnd.databricks.v1+cell": {
                    "cellMetadata": {
                        "byteLimit": 2048000,
                        "rowLimit": 10000
                    },
                    "inputWidgets": {},
                    "nuid": "027fc098-4679-4a6d-9d68-d1b340db222d",
                    "showTitle": false,
                    "title": ""
                },
                "extensions": {
                    "azuredatastudio": {
                        "views": []
                    }
                },
                "azdata_cell_guid": "3db8b07c-aec7-4961-922e-f3de00f0ce47"
            },
            "outputs": [],
            "execution_count": null
        },
        {
            "cell_type": "markdown",
            "source": [
                "## Processing Workflow"
            ],
            "metadata": {
                "application/vnd.databricks.v1+cell": {
                    "cellMetadata": {},
                    "inputWidgets": {},
                    "nuid": "b98b13d8-14b9-4acf-8983-d8358c3d4dc8",
                    "showTitle": false,
                    "title": ""
                },
                "extensions": {
                    "azuredatastudio": {
                        "views": []
                    }
                },
                "azdata_cell_guid": "7f8504ac-06ea-475c-a19c-ba22dc09167c"
            }
        },
        {
            "cell_type": "markdown",
            "source": [
                "### Flattening and Processing Nested JSON Data"
            ],
            "metadata": {
                "application/vnd.databricks.v1+cell": {
                    "cellMetadata": {},
                    "inputWidgets": {},
                    "nuid": "771891eb-826b-4359-a504-5436ff0c0139",
                    "showTitle": false,
                    "title": ""
                },
                "extensions": {
                    "azuredatastudio": {
                        "views": []
                    }
                },
                "azdata_cell_guid": "1a100801-0e12-4a3f-8275-574cb8283462"
            }
        },
        {
            "cell_type": "code",
            "source": [
                "from pyspark.sql.functions import col\n",
                "from custom_utils.transformations.dataframe import DataFrameTransformer\n",
                "\n",
                "# Assuming DataFrameTransformer is the correct class name\n",
                "transformer = DataFrameTransformer(config=config, logger=logger, debug=True)\n",
                "\n",
                "# Call the process_and_flatten_json method using the transformer instance\n",
                "df, df_flattened = transformer.process_and_flatten_json(\n",
                "    schema_file_path=schema_file_path,\n",
                "    data_file_path=data_file_path,\n",
                "    depth_level=depth_level,  # Set appropriate depth level if needed\n",
                "    include_schema=False  # Optional: set to True if you want to include schema in logs\n",
                ")\n",
                "\n",
                "# Optionally: Rename the column \"Timestamp\" to \"EventTimestamp\" and cast it to timestamp\n",
                "df_flattened = df_flattened.withColumnRenamed(\"Timestamp\", \"EventTimestamp\") \\\n",
                "                           .withColumn(\"EventTimestamp\", col(\"EventTimestamp\").cast(\"timestamp\"))\n",
                "\n",
                "# Display the flattened DataFrame to verify the result (useful in Databricks or Jupyter)\n",
                "display(df_flattened)"
            ],
            "metadata": {
                "application/vnd.databricks.v1+cell": {
                    "cellMetadata": {
                        "byteLimit": 2048000,
                        "rowLimit": 10000
                    },
                    "inputWidgets": {},
                    "nuid": "10595b9a-ae4b-44b8-861b-1841d00fcc78",
                    "showTitle": false,
                    "title": ""
                },
                "extensions": {
                    "azuredatastudio": {
                        "views": []
                    }
                },
                "azdata_cell_guid": "f17e4102-90cb-4d3c-841d-ffd9d5b4ba16"
            },
            "outputs": [],
            "execution_count": null
        },
        {
            "cell_type": "markdown",
            "source": [
                "## Quality check "
            ],
            "metadata": {
                "application/vnd.databricks.v1+cell": {
                    "cellMetadata": {},
                    "inputWidgets": {},
                    "nuid": "9b3c28ce-8735-463d-87e0-d5c24766e39f",
                    "showTitle": false,
                    "title": ""
                },
                "extensions": {
                    "azuredatastudio": {
                        "views": []
                    }
                },
                "azdata_cell_guid": "e630b56f-bb2a-497d-8a54-a098d453a157"
            }
        },
        {
            "cell_type": "markdown",
            "source": [
                "### Abort if duplicates exists in new data"
            ],
            "metadata": {
                "application/vnd.databricks.v1+cell": {
                    "cellMetadata": {},
                    "inputWidgets": {},
                    "nuid": "ed7d3059-0a9d-4564-8ade-05eb28ae15e0",
                    "showTitle": false,
                    "title": ""
                },
                "extensions": {
                    "azuredatastudio": {
                        "views": []
                    }
                },
                "azdata_cell_guid": "10d56078-e5f9-4ae9-abb9-c1fd9e83d9f9"
            }
        },
        {
            "cell_type": "code",
            "source": [
                "from custom_utils.quality.quality import DataQualityManager\n",
                "from pyspark.sql import SparkSession\n",
                "\n",
                "# Initialize the DataQualityManager\n",
                "quality_manager = DataQualityManager(logger=logger, debug=True)\n",
                "\n",
                "# Describe available quality checks\n",
                "quality_manager.describe_available_checks()\n",
                "\n",
                "# Specify order_by columns\n",
                "temp_view_name = quality_manager.perform_data_quality_checks(\n",
                "    spark=spark,\n",
                "    df=df_flattened,\n",
                "    key_columns=key_columns,\n",
                "    order_by=['EventTimestamp'],  # Optional parameter\n",
                "    critical_columns=['Guid', 'EventTimestamp', 'ValidFrom', 'ValidTo'],\n",
                "    column_ranges={'CommercialBalance': (-58697320, 601210), 'PhysicalBalance': (-5869732, 60121)},\n",
                "    join_column=key_columns,\n",
                "    consistency_pairs=[('ValidFrom', 'ValidTo')],\n",
                "    columns_to_exclude=['input_file_name'],\n",
                "    use_sql=True\n",
                ")"
            ],
            "metadata": {
                "application/vnd.databricks.v1+cell": {
                    "cellMetadata": {
                        "byteLimit": 2048000,
                        "rowLimit": 10000
                    },
                    "inputWidgets": {},
                    "nuid": "ec843a58-9332-4811-b801-f5a19d4d4a7a",
                    "showTitle": false,
                    "title": ""
                },
                "extensions": {
                    "azuredatastudio": {
                        "views": []
                    }
                },
                "azdata_cell_guid": "5e360355-95e5-4292-852c-e92ee37147df"
            },
            "outputs": [],
            "execution_count": null
        },
        {
            "cell_type": "markdown",
            "source": [
                "## Write"
            ],
            "metadata": {
                "application/vnd.databricks.v1+cell": {
                    "cellMetadata": {},
                    "inputWidgets": {},
                    "nuid": "b88c2a2f-e8d7-479a-b9fd-524237bab500",
                    "showTitle": false,
                    "title": ""
                },
                "extensions": {
                    "azuredatastudio": {
                        "views": []
                    }
                },
                "azdata_cell_guid": "a7abb6d5-44d2-4538-9a4f-438675bfb95d"
            }
        },
        {
            "cell_type": "markdown",
            "source": [
                "### Unified Data Storage Management: Table Creation and Data Merging"
            ],
            "metadata": {
                "application/vnd.databricks.v1+cell": {
                    "cellMetadata": {},
                    "inputWidgets": {},
                    "nuid": "90b8d941-6c78-49ec-af04-118edf0e8f7f",
                    "showTitle": false,
                    "title": ""
                },
                "extensions": {
                    "azuredatastudio": {
                        "views": []
                    }
                },
                "azdata_cell_guid": "7fd23ada-af47-4b93-b9bb-bd70592aff9e"
            }
        },
        {
            "cell_type": "code",
            "source": [
                "from custom_utils.catalog.catalog_utils import DataStorageManager\n",
                "\n",
                "# Initialize the DataStorageManager class\n",
                "storage_manager = DataStorageManager(logger=logger, debug=True)\n",
                "\n",
                "storage_manager.manage_data_operation(\n",
                "    spark=spark,\n",
                "    dbutils=dbutils,\n",
                "    destination_environment=destination_environment,\n",
                "    source_datasetidentifier=source_datasetidentifier,\n",
                "    temp_view_name=temp_view_name,\n",
                "    key_columns=key_columns\n",
                ")"
            ],
            "metadata": {
                "application/vnd.databricks.v1+cell": {
                    "cellMetadata": {
                        "byteLimit": 2048000,
                        "rowLimit": 10000
                    },
                    "inputWidgets": {},
                    "nuid": "c5386e77-1381-41a7-aae3-7bd3029c844f",
                    "showTitle": false,
                    "title": ""
                },
                "extensions": {
                    "azuredatastudio": {
                        "views": []
                    }
                },
                "azdata_cell_guid": "6275d72a-18c9-44c6-a75c-6a744f8be2b4"
            },
            "outputs": [],
            "execution_count": null
        },
        {
            "cell_type": "markdown",
            "source": [
                "## Finishing"
            ],
            "metadata": {
                "application/vnd.databricks.v1+cell": {
                    "cellMetadata": {},
                    "inputWidgets": {},
                    "nuid": "708335a8-3deb-4835-ad1f-1c1baecaef32",
                    "showTitle": false,
                    "title": ""
                },
                "extensions": {
                    "azuredatastudio": {
                        "views": []
                    }
                },
                "azdata_cell_guid": "7979a0dd-d54c-4298-a267-b52f0468ad3f"
            }
        },
        {
            "cell_type": "markdown",
            "source": [
                "### Return period (from_datetime, to_datetime) covered by data read"
            ],
            "metadata": {
                "application/vnd.databricks.v1+cell": {
                    "cellMetadata": {},
                    "inputWidgets": {},
                    "nuid": "a8e9980e-5621-400b-a5ce-fca359e96fff",
                    "showTitle": false,
                    "title": ""
                },
                "extensions": {
                    "azuredatastudio": {
                        "views": []
                    }
                },
                "azdata_cell_guid": "f0bdf6d6-9855-413d-a466-3e9d95129d30"
            }
        },
        {
            "cell_type": "code",
            "source": [
                "from custom_utils.catalog.catalog_utils import DataStorageManager\n",
                "\n",
                "# Initialize the DataStorageManager class\n",
                "storage_manager = DataStorageManager(logger=logger, debug=True)\n",
                "\n",
                "# Run the main function to generate feedback timestamps\n",
                "notebook_output = storage_manager.generate_feedback_timestamps(\n",
                "    spark=spark, \n",
                "    view_name=temp_view_name, \n",
                "    feedback_column=feedback_column\n",
                ")"
            ],
            "metadata": {
                "application/vnd.databricks.v1+cell": {
                    "cellMetadata": {
                        "byteLimit": 2048000,
                        "rowLimit": 10000
                    },
                    "inputWidgets": {},
                    "nuid": "743d14cc-c9d3-427f-918a-e741886e282b",
                    "showTitle": false,
                    "title": ""
                },
                "extensions": {
                    "azuredatastudio": {
                        "views": []
                    }
                },
                "azdata_cell_guid": "59a27383-aeb5-4c1f-8eec-53bbfb2e12f2"
            },
            "outputs": [],
            "execution_count": null
        },
        {
            "cell_type": "markdown",
            "source": [
                "### Exit the notebook "
            ],
            "metadata": {
                "application/vnd.databricks.v1+cell": {
                    "cellMetadata": {},
                    "inputWidgets": {},
                    "nuid": "bc31b43c-3731-44d8-af22-1ed930832914",
                    "showTitle": false,
                    "title": ""
                },
                "extensions": {
                    "azuredatastudio": {
                        "views": []
                    }
                },
                "azdata_cell_guid": "c1227ed6-b051-45c9-a149-303a50e81875"
            }
        },
        {
            "cell_type": "code",
            "source": [
                "# Use dbutils to exit the notebook\n",
                "dbutils.notebook.exit(notebook_output)"
            ],
            "metadata": {
                "application/vnd.databricks.v1+cell": {
                    "cellMetadata": {
                        "byteLimit": 2048000,
                        "rowLimit": 10000
                    },
                    "inputWidgets": {},
                    "nuid": "da4f1189-7323-4527-8641-169b05d5220d",
                    "showTitle": false,
                    "title": ""
                },
                "extensions": {
                    "azuredatastudio": {
                        "views": []
                    }
                },
                "azdata_cell_guid": "b6f1a508-901e-473a-89f1-932966fd5d8c"
            },
            "outputs": [],
            "execution_count": null
        }
    ]
}