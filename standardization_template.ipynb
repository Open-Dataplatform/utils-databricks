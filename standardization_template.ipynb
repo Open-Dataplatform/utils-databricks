{
    "metadata": {
        "kernelspec": {
            "name": "SQL",
            "display_name": "SQL",
            "language": "sql"
        },
        "language_info": {
            "name": "sql",
            "version": ""
        },
        "application/vnd.databricks.v1+notebook": {
            "dashboards": [],
            "environmentMetadata": null,
            "language": "python",
            "notebookMetadata": {
                "pythonIndentUnit": 2
            },
            "notebookName": "s-data_group__entityname (4)",
            "widgets": {
                "DepthLevel": {
                    "currentValue": "1",
                    "nuid": "40c267fd-3f64-462d-9d36-f078f3480c57",
                    "typedWidgetInfo": {
                        "autoCreated": false,
                        "defaultValue": "1",
                        "label": "Depth Level",
                        "name": "DepthLevel",
                        "options": {
                            "validationRegex": null,
                            "widgetDisplayType": "Text"
                        },
                        "parameterDataType": "String"
                    },
                    "widgetInfo": {
                        "defaultValue": "1",
                        "label": "Depth Level",
                        "name": "DepthLevel",
                        "options": {
                            "autoCreated": null,
                            "validationRegex": null,
                            "widgetType": "text"
                        },
                        "widgetType": "text"
                    }
                },
                "DestinationStorageAccount": {
                    "currentValue": "dpuniformstoragetest",
                    "nuid": "8f9c9602-ee15-4b5b-90a8-a42f499d89a2",
                    "typedWidgetInfo": {
                        "autoCreated": false,
                        "defaultValue": "dpuniformstoragetest",
                        "label": "Destination Storage Account",
                        "name": "DestinationStorageAccount",
                        "options": {
                            "validationRegex": null,
                            "widgetDisplayType": "Text"
                        },
                        "parameterDataType": "String"
                    },
                    "widgetInfo": {
                        "defaultValue": "dpuniformstoragetest",
                        "label": "Destination Storage Account",
                        "name": "DestinationStorageAccount",
                        "options": {
                            "autoCreated": null,
                            "validationRegex": null,
                            "widgetType": "text"
                        },
                        "widgetType": "text"
                    }
                },
                "FeedbackColumn": {
                    "currentValue": "EventTimestamp",
                    "nuid": "b2ea58eb-287a-4dae-9e46-9c0c004ee5e7",
                    "typedWidgetInfo": {
                        "autoCreated": false,
                        "defaultValue": "EventTimestamp",
                        "label": "Feedback Column",
                        "name": "FeedbackColumn",
                        "options": {
                            "validationRegex": null,
                            "widgetDisplayType": "Text"
                        },
                        "parameterDataType": "String"
                    },
                    "widgetInfo": {
                        "defaultValue": "EventTimestamp",
                        "label": "Feedback Column",
                        "name": "FeedbackColumn",
                        "options": {
                            "autoCreated": null,
                            "validationRegex": null,
                            "widgetType": "text"
                        },
                        "widgetType": "text"
                    }
                },
                "KeyColumns": {
                    "currentValue": "Guid",
                    "nuid": "6b2e84fd-ea3c-4b02-ab3b-6580e5ba0dfb",
                    "typedWidgetInfo": {
                        "autoCreated": false,
                        "defaultValue": "Unit_GSRN",
                        "label": "Key Columns",
                        "name": "KeyColumns",
                        "options": {
                            "validationRegex": null,
                            "widgetDisplayType": "Text"
                        },
                        "parameterDataType": "String"
                    },
                    "widgetInfo": {
                        "defaultValue": "Guid",
                        "label": "Key Columns",
                        "name": "KeyColumns",
                        "options": {
                            "autoCreated": null,
                            "validationRegex": null,
                            "widgetType": "text"
                        },
                        "widgetType": "text"
                    }
                },
                "SchemaFolderName": {
                    "currentValue": "schemachecks",
                    "nuid": "409029fc-dd3a-4c19-bebb-a38a2a1534ab",
                    "typedWidgetInfo": {
                        "autoCreated": false,
                        "defaultValue": "Sheet",
                        "label": "Sheet Name",
                        "name": "SheetName",
                        "options": {
                            "validationRegex": null,
                            "widgetDisplayType": "Text"
                        },
                        "parameterDataType": "String"
                    },
                    "widgetInfo": {
                        "defaultValue": "schemachecks",
                        "label": "Schema Folder Name",
                        "name": "SchemaFolderName",
                        "options": {
                            "autoCreated": null,
                            "validationRegex": null,
                            "widgetType": "text"
                        },
                        "widgetType": "text"
                    }
                },
                "SourceContainer": {
                    "currentValue": "landing",
                    "nuid": "328130e1-e52c-4f71-9a9a-2c920fde1adf",
                    "typedWidgetInfo": {
                        "autoCreated": false,
                        "defaultValue": "landing",
                        "label": "Source Container",
                        "name": "SourceContainer",
                        "options": {
                            "validationRegex": null,
                            "widgetDisplayType": "Text"
                        },
                        "parameterDataType": "String"
                    },
                    "widgetInfo": {
                        "defaultValue": "landing",
                        "label": "Source Container",
                        "name": "SourceContainer",
                        "options": {
                            "autoCreated": null,
                            "validationRegex": null,
                            "widgetType": "text"
                        },
                        "widgetType": "text"
                    }
                },
                "SourceDatasetidentifier": {
                    "currentValue": "triton__flow_plans",
                    "nuid": "68ae87f4-b780-4841-bfe8-a795c0994991",
                    "typedWidgetInfo": {
                        "autoCreated": false,
                        "defaultValue": "pluto_pc__units_scadamw",
                        "label": "Source Datasetidentifier",
                        "name": "SourceDatasetidentifier",
                        "options": {
                            "validationRegex": null,
                            "widgetDisplayType": "Text"
                        },
                        "parameterDataType": "String"
                    },
                    "widgetInfo": {
                        "defaultValue": "triton__flow_plans",
                        "label": "Source Datasetidentifier",
                        "name": "SourceDatasetidentifier",
                        "options": {
                            "autoCreated": null,
                            "validationRegex": null,
                            "widgetType": "text"
                        },
                        "widgetType": "text"
                    }
                },
                "SourceFileName": {
                    "currentValue": "*",
                    "nuid": "e1382faa-eab3-4164-99a0-31ef585e3cdc",
                    "typedWidgetInfo": {
                        "autoCreated": false,
                        "defaultValue": "triton__flow_plans-202408*",
                        "label": "Source File Name",
                        "name": "SourceFileName",
                        "options": {
                            "validationRegex": null,
                            "widgetDisplayType": "Text"
                        },
                        "parameterDataType": "String"
                    },
                    "widgetInfo": {
                        "defaultValue": "triton__flow_plans-202408*",
                        "label": "Source File Name",
                        "name": "SourceFileName",
                        "options": {
                            "autoCreated": null,
                            "validationRegex": null,
                            "widgetType": "text"
                        },
                        "widgetType": "text"
                    }
                },
                "SourceStorageAccount": {
                    "currentValue": "dplandingstoragetest",
                    "nuid": "b20e6458-5990-40d9-894b-c765ea959596",
                    "typedWidgetInfo": {
                        "autoCreated": false,
                        "defaultValue": "dplandingstoragetest",
                        "label": "Source Storage Account",
                        "name": "SourceStorageAccount",
                        "options": {
                            "validationRegex": null,
                            "widgetDisplayType": "Text"
                        },
                        "parameterDataType": "String"
                    },
                    "widgetInfo": {
                        "defaultValue": "dplandingstoragetest",
                        "label": "Source Storage Account",
                        "name": "SourceStorageAccount",
                        "options": {
                            "autoCreated": null,
                            "validationRegex": null,
                            "widgetType": "text"
                        },
                        "widgetType": "text"
                    }
                }
            }
        },
        "extensions": {
            "azuredatastudio": {
                "version": 1,
                "views": []
            }
        }
    },
    "nbformat_minor": 2,
    "nbformat": 4,
    "cells": [
        {
            "cell_type": "markdown",
            "source": [
                "\n",
                "# JSON Standardization and Flattening\n",
                "This notebook is responsible for standardizing and flattening JSON files. It reads the raw JSON data from the landing zone, applies a schema for validation, flattens nested structures, and then writes the transformed data as Delta Parquet files.\n",
                "\n",
                "Key Features:\n",
                "- Reads JSON files from the landing zone.\n",
                "- Applies a predefined schema for data validation (ensure the schema file is available at landing/schemachecks/[datasetidentifier]/[datasetidentifier]_schema.json).\n",
                "- Flattens nested JSON structures for easier querying and analysis.\n",
                "- Saves the processed data as Delta Parquet files for efficient storage and querying."
            ],
            "metadata": {
                "application/vnd.databricks.v1+cell": {
                    "cellMetadata": {
                        "byteLimit": 2048000,
                        "rowLimit": 10000
                    },
                    "inputWidgets": {},
                    "nuid": "91d6f570-2e91-4fcf-9d4a-5650142d03ac",
                    "showTitle": false,
                    "tableResultSettingsMap": {},
                    "title": ""
                },
                "extensions": {
                    "azuredatastudio": {
                        "views": []
                    }
                },
                "azdata_cell_guid": "fd433a0d-396a-47fe-94f6-329345c22442"
            }
        },
        {
            "cell_type": "markdown",
            "source": [
                "## Widget Initialization and Configuration"
            ],
            "metadata": {
                "application/vnd.databricks.v1+cell": {
                    "cellMetadata": {
                        "byteLimit": 2048000,
                        "rowLimit": 10000
                    },
                    "inputWidgets": {},
                    "nuid": "9b4bc7d6-2bdd-4ed4-b303-72eec5c0ecf7",
                    "showTitle": false,
                    "tableResultSettingsMap": {},
                    "title": ""
                },
                "extensions": {
                    "azuredatastudio": {
                        "views": []
                    }
                },
                "azdata_cell_guid": "68f54a4a-2575-4443-9333-f04716296a30"
            }
        },
        {
            "cell_type": "markdown",
            "source": [
                "### triton__flow_plans example"
            ],
            "metadata": {
                "application/vnd.databricks.v1+cell": {
                    "cellMetadata": {
                        "byteLimit": 2048000,
                        "rowLimit": 10000
                    },
                    "inputWidgets": {},
                    "nuid": "9943383f-3782-46a9-b346-f03df428aa16",
                    "showTitle": false,
                    "tableResultSettingsMap": {},
                    "title": ""
                },
                "extensions": {
                    "azuredatastudio": {
                        "views": []
                    }
                },
                "azdata_cell_guid": "0092d035-617b-4d48-83c8-2877aa7cf3a3"
            }
        },
        {
            "cell_type": "code",
            "source": [
                "dbutils.widgets.removeAll()\n",
                "\n",
                "# Source and Destination Storage Accounts\n",
                "dbutils.widgets.text(\"SourceStorageAccount\", \"dplandingstoragetest\", \"Source Storage Account\")\n",
                "dbutils.widgets.text(\"DestinationStorageAccount\", \"dpuniformstoragetest\", \"Destination Storage Account\")\n",
                "\n",
                "# Source container and dataset identifier\n",
                "dbutils.widgets.text(\"SourceContainer\", \"landing\", \"Source Container\")\n",
                "dbutils.widgets.text(\"SourceDatasetidentifier\", \"triton__flow_plans\", \"Source Datasetidentifier\")\n",
                "\n",
                "# Source file and key columns\n",
                "dbutils.widgets.text(\"SourceFileName\", \"*\", \"Source File Name\")\n",
                "dbutils.widgets.text(\"KeyColumns\", \"Guid\", \"Key Columns\")\n",
                "\n",
                "# Feedback column and flattening option\n",
                "dbutils.widgets.text(\"FeedbackColumn\", \"EventTimestamp\", \"Feedback Column\")\n",
                "dbutils.widgets.text(\"DepthLevel\", \"1\", \"Depth Level\")\n",
                "dbutils.widgets.text(\"SchemaFolderName\", \"schemachecks\", \"Schema Folder Name\")"
            ],
            "metadata": {
                "application/vnd.databricks.v1+cell": {
                    "cellMetadata": {},
                    "inputWidgets": {},
                    "nuid": "33458930-22c5-475d-a860-c19e0e1b26c1",
                    "showTitle": false,
                    "tableResultSettingsMap": {},
                    "title": ""
                },
                "extensions": {
                    "azuredatastudio": {
                        "views": []
                    }
                },
                "azdata_cell_guid": "305c9d46-97af-43ba-bf3b-b422e25d26fe"
            },
            "outputs": [],
            "execution_count": null
        },
        {
            "cell_type": "markdown",
            "source": [
                "## Setup"
            ],
            "metadata": {
                "application/vnd.databricks.v1+cell": {
                    "cellMetadata": {
                        "byteLimit": 2048000,
                        "rowLimit": 10000
                    },
                    "inputWidgets": {},
                    "nuid": "865b9ef9-d2b9-43cb-b0fb-80c337bf6939",
                    "showTitle": false,
                    "tableResultSettingsMap": {},
                    "title": ""
                },
                "extensions": {
                    "azuredatastudio": {
                        "views": []
                    }
                },
                "azdata_cell_guid": "c5fc33e1-2eda-42c6-a6e8-89b25295047c"
            }
        },
        {
            "cell_type": "markdown",
            "source": [
                "### Package Installation and Management"
            ],
            "metadata": {
                "application/vnd.databricks.v1+cell": {
                    "cellMetadata": {
                        "byteLimit": 2048000,
                        "rowLimit": 10000
                    },
                    "inputWidgets": {},
                    "nuid": "e483a538-51df-4032-8f96-15f724c849a0",
                    "showTitle": false,
                    "tableResultSettingsMap": {},
                    "title": ""
                },
                "extensions": {
                    "azuredatastudio": {
                        "views": []
                    }
                },
                "azdata_cell_guid": "7d36af6a-bb5b-4c26-9ca9-4c2001701fe3"
            }
        },
        {
            "cell_type": "code",
            "source": [
                "# Install necessary packages\n",
                "# Ensure to use the specific versions needed.\n",
                "\n",
                "# Uninstall the existing package version (uncomment if a previous version is present).\n",
                "# %pip uninstall databricks-custom-utils -y\n",
                "\n",
                "# Install the package from the GitHub repository's specified branch.\n",
                "%pip install git+https://github.com/Open-Dataplatform/utils-databricks.git@v0.6.8 sqlparse openpyxl"
            ],
            "metadata": {
                "application/vnd.databricks.v1+cell": {
                    "cellMetadata": {
                        "byteLimit": 2048000,
                        "rowLimit": 10000
                    },
                    "inputWidgets": {},
                    "nuid": "1bb19bf2-9f0e-4035-a2e8-2972dcdf0d59",
                    "showTitle": false,
                    "tableResultSettingsMap": {},
                    "title": ""
                },
                "extensions": {
                    "azuredatastudio": {
                        "views": []
                    }
                },
                "azdata_cell_guid": "fee47c51-88e7-42ea-8af2-ac2e6f587a92"
            },
            "outputs": [],
            "execution_count": null
        },
        {
            "cell_type": "markdown",
            "source": [
                "### Initialize notebook and get parameters"
            ],
            "metadata": {
                "application/vnd.databricks.v1+cell": {
                    "cellMetadata": {
                        "byteLimit": 2048000,
                        "rowLimit": 10000
                    },
                    "inputWidgets": {},
                    "nuid": "bb5400bd-4075-482b-89e0-056935c69e6b",
                    "showTitle": false,
                    "tableResultSettingsMap": {},
                    "title": ""
                },
                "extensions": {
                    "azuredatastudio": {
                        "views": []
                    }
                },
                "azdata_cell_guid": "76c0da30-7d13-4951-b262-adcd51eb3a51"
            }
        },
        {
            "cell_type": "code",
            "source": [
                "from custom_utils.logging.logger import Logger\n",
                "from custom_utils.config.config import Config\n",
                "\n",
                "# Instantiate the logger class\n",
                "logger = Logger(debug=True)\n",
                "\n",
                "# Initialize the Config object\n",
                "config = Config.initialize(dbutils=dbutils, logger=logger, debug=True)\n",
                "\n",
                "# Unpack parameters into the current scope\n",
                "config.unpack(globals())"
            ],
            "metadata": {
                "application/vnd.databricks.v1+cell": {
                    "cellMetadata": {
                        "byteLimit": 2048000,
                        "rowLimit": 10000
                    },
                    "inputWidgets": {},
                    "nuid": "04df52b8-c792-4a99-a6a9-1bdfbf39083f",
                    "showTitle": false,
                    "tableResultSettingsMap": {},
                    "title": ""
                },
                "extensions": {
                    "azuredatastudio": {
                        "views": []
                    }
                },
                "azdata_cell_guid": "5607266a-d747-4cca-b81f-02714d849f38"
            },
            "outputs": [],
            "execution_count": null
        },
        {
            "cell_type": "markdown",
            "source": [
                "### Verify paths and files"
            ],
            "metadata": {
                "application/vnd.databricks.v1+cell": {
                    "cellMetadata": {
                        "byteLimit": 2048000,
                        "rowLimit": 10000
                    },
                    "inputWidgets": {},
                    "nuid": "a9e5fd88-287b-4eee-87aa-4a0f6cf4f40b",
                    "showTitle": false,
                    "tableResultSettingsMap": {},
                    "title": ""
                },
                "extensions": {
                    "azuredatastudio": {
                        "views": []
                    }
                },
                "azdata_cell_guid": "d3269e6f-415d-4f33-bc41-1c5fc52476af"
            }
        },
        {
            "cell_type": "code",
            "source": [
                "from custom_utils.validation.validation import Validator\n",
                "\n",
                "# Initialize the Validator class with the provided configuration and logger\n",
                "validator = Validator(config, logger=logger, debug=True)\n",
                "\n",
                "# Perform validation of schema and source paths, returning validated file folder paths and file type.\n",
                "schema_file_path, data_file_path, matched_data_files, data_file_type = validator.verify_paths_and_files()"
            ],
            "metadata": {
                "application/vnd.databricks.v1+cell": {
                    "cellMetadata": {
                        "byteLimit": 2048000,
                        "rowLimit": 10000
                    },
                    "inputWidgets": {},
                    "nuid": "9f795e18-aff1-42e5-8352-2fbc79a2cc4e",
                    "showTitle": false,
                    "tableResultSettingsMap": {},
                    "title": ""
                },
                "extensions": {
                    "azuredatastudio": {
                        "views": []
                    }
                },
                "azdata_cell_guid": "49911712-6405-4b28-8d65-260e273514c5"
            },
            "outputs": [],
            "execution_count": null
        },
        {
            "cell_type": "markdown",
            "source": [
                "### Exit Notebook if Validate fails"
            ],
            "metadata": {
                "application/vnd.databricks.v1+cell": {
                    "cellMetadata": {},
                    "inputWidgets": {},
                    "nuid": "20f58662-00e1-43f6-a1f3-ad5cb2660fa9",
                    "showTitle": false,
                    "tableResultSettingsMap": {},
                    "title": ""
                },
                "extensions": {
                    "azuredatastudio": {
                        "views": []
                    }
                },
                "azdata_cell_guid": "797cf896-5396-4986-ae43-007e3813173c"
            }
        },
        {
            "cell_type": "code",
            "source": [
                "# Check for exit flag\n",
                "if Validator.exit_notebook:\n",
                "    print(Validator.exit_notebook_message)  # Ensure the message is visible in the notebook\n",
                "    dbutils.notebook.exit(Validator.exit_notebook_message)"
            ],
            "metadata": {
                "application/vnd.databricks.v1+cell": {
                    "cellMetadata": {
                        "byteLimit": 2048000,
                        "rowLimit": 10000
                    },
                    "inputWidgets": {},
                    "nuid": "3600b751-bf86-410c-8403-912cd6886bf6",
                    "showTitle": false,
                    "tableResultSettingsMap": {},
                    "title": ""
                },
                "extensions": {
                    "azuredatastudio": {
                        "views": []
                    }
                },
                "azdata_cell_guid": "69536b0f-ddea-4260-96b4-20d6daa57b7c"
            },
            "outputs": [],
            "execution_count": null
        },
        {
            "cell_type": "markdown",
            "source": [
                "## Processing Workflow"
            ],
            "metadata": {
                "application/vnd.databricks.v1+cell": {
                    "cellMetadata": {
                        "byteLimit": 2048000,
                        "rowLimit": 10000
                    },
                    "inputWidgets": {},
                    "nuid": "5e44412e-8413-4baf-a56a-b2367ce7e76f",
                    "showTitle": false,
                    "tableResultSettingsMap": {},
                    "title": ""
                },
                "extensions": {
                    "azuredatastudio": {
                        "views": []
                    }
                },
                "azdata_cell_guid": "9e176c60-3ef8-498b-810a-0c72ddf24006"
            }
        },
        {
            "cell_type": "markdown",
            "source": [
                "### Flattening and Processing Nested JSON Data"
            ],
            "metadata": {
                "application/vnd.databricks.v1+cell": {
                    "cellMetadata": {
                        "byteLimit": 2048000,
                        "rowLimit": 10000
                    },
                    "inputWidgets": {},
                    "nuid": "fdf8afdb-163a-4f9c-9faa-491c683f3c40",
                    "showTitle": false,
                    "tableResultSettingsMap": {},
                    "title": ""
                },
                "extensions": {
                    "azuredatastudio": {
                        "views": []
                    }
                },
                "azdata_cell_guid": "fddeaa43-4c13-4804-b3e5-51f0b0e97518"
            }
        },
        {
            "cell_type": "code",
            "source": [
                "from pyspark.sql.functions import col\n",
                "from custom_utils.transformations.dataframe import DataFrameTransformer\n",
                "\n",
                "# Initialize the DataFrameTransformer class\n",
                "transformer = DataFrameTransformer(config=config, logger=logger, dbutils=dbutils, debug=True)\n",
                "\n",
                "# Call the process_and_flatten_data method using the transformer instance\n",
                "df_initial, df_flattened = transformer.process_and_flatten_data(\n",
                "    schema_file_path=schema_file_path,\n",
                "    data_file_path=data_file_path,\n",
                "    file_type=data_file_type,\n",
                "    matched_data_files=matched_data_files,\n",
                "    depth_level=depth_level,\n",
                "    sheet_name=sheet_name,\n",
                "    include_schema=False\n",
                ")\n",
                "\n",
                "# Optionally: Rename the column \"Timestamp\" to \"EventTimestamp\" and cast it to timestamp\n",
                "df_flattened = df_flattened \\\n",
                "    .withColumnRenamed(\"Timestamp\", \"EventTimestamp\") \\\n",
                "    .withColumn(\"EventTimestamp\", col(\"EventTimestamp\").cast(\"timestamp\"))\n",
                "\n",
                "# Display the flattened DataFrame to verify the result (useful in Databricks or Jupyter)\n",
                "print(\"Initial DataFrame:\")\n",
                "display(df_initial)\n",
                "\n",
                "print(\"Flattened DataFrame:\")\n",
                "display(df_flattened)"
            ],
            "metadata": {
                "application/vnd.databricks.v1+cell": {
                    "cellMetadata": {
                        "byteLimit": 2048000,
                        "rowLimit": 10000
                    },
                    "inputWidgets": {},
                    "nuid": "dfa2b2d0-5f62-4594-beb8-72b931b45b78",
                    "showTitle": false,
                    "tableResultSettingsMap": {},
                    "title": ""
                },
                "extensions": {
                    "azuredatastudio": {
                        "views": []
                    }
                },
                "azdata_cell_guid": "4ad50389-decf-44be-b239-f837cc9dcae0"
            },
            "outputs": [],
            "execution_count": null
        },
        {
            "cell_type": "markdown",
            "source": [
                "## Quality check "
            ],
            "metadata": {
                "application/vnd.databricks.v1+cell": {
                    "cellMetadata": {
                        "byteLimit": 2048000,
                        "rowLimit": 10000
                    },
                    "inputWidgets": {},
                    "nuid": "62be0de9-345c-498a-a9cd-5befb30b5d20",
                    "showTitle": false,
                    "tableResultSettingsMap": {},
                    "title": ""
                },
                "extensions": {
                    "azuredatastudio": {
                        "views": []
                    }
                },
                "azdata_cell_guid": "57591261-97ad-442d-ad6c-6d899cabba70"
            }
        },
        {
            "cell_type": "markdown",
            "source": [
                "### Abort if duplicates exists in new data"
            ],
            "metadata": {
                "application/vnd.databricks.v1+cell": {
                    "cellMetadata": {
                        "byteLimit": 2048000,
                        "rowLimit": 10000
                    },
                    "inputWidgets": {},
                    "nuid": "44b8795c-c035-4a1d-a8dd-45044b2be1b8",
                    "showTitle": false,
                    "tableResultSettingsMap": {},
                    "title": ""
                },
                "extensions": {
                    "azuredatastudio": {
                        "views": []
                    }
                },
                "azdata_cell_guid": "deef8a4c-0bb0-4c81-a37a-5145527a9cbc"
            }
        },
        {
            "cell_type": "code",
            "source": [
                "from custom_utils.quality.quality import DataQualityManager\n",
                "\n",
                "# Initialize the DataQualityManager class\n",
                "quality_manager = DataQualityManager(logger=logger, debug=True)\n",
                "\n",
                "# Describe available quality checks\n",
                "quality_manager.describe_available_checks()\n",
                "\n",
                "# Executing Data Quality Checks on Flattened DataFrame\n",
                "cleaned_data_view = quality_manager.perform_data_quality_checks(\n",
                "    spark=spark,\n",
                "    df=df_flattened,\n",
                "    key_columns=key_columns,\n",
                "    order_by=key_columns,  # Default order if feedback_column is not provided\n",
                "    feedback_column=feedback_column,  # Optional column for ordering during duplicate removal\n",
                "    join_column=key_columns,\n",
                "    columns_to_exclude=[\"input_file_name\"],\n",
                "    use_python=False  # Set to True to use Python DataFrame operations; False for SQL\n",
                ")"
            ],
            "metadata": {
                "application/vnd.databricks.v1+cell": {
                    "cellMetadata": {
                        "byteLimit": 2048000,
                        "rowLimit": 10000
                    },
                    "inputWidgets": {},
                    "nuid": "7e165142-cdf0-44d4-ad1c-1cfbe8a4601a",
                    "showTitle": false,
                    "tableResultSettingsMap": {},
                    "title": ""
                },
                "extensions": {
                    "azuredatastudio": {
                        "views": []
                    }
                },
                "azdata_cell_guid": "15929245-8e20-4b27-9ea1-4b765782003b"
            },
            "outputs": [],
            "execution_count": null
        },
        {
            "cell_type": "markdown",
            "source": [
                "## Write"
            ],
            "metadata": {
                "application/vnd.databricks.v1+cell": {
                    "cellMetadata": {
                        "byteLimit": 2048000,
                        "rowLimit": 10000
                    },
                    "inputWidgets": {},
                    "nuid": "62198c6c-30af-4a1f-af05-eae5f8028a98",
                    "showTitle": false,
                    "tableResultSettingsMap": {},
                    "title": ""
                },
                "extensions": {
                    "azuredatastudio": {
                        "views": []
                    }
                },
                "azdata_cell_guid": "ad777d28-9f3b-4cce-a345-e5f16166ba84"
            }
        },
        {
            "cell_type": "markdown",
            "source": [
                "### Unified Data Storage Management: Table Creation and Data Merging"
            ],
            "metadata": {
                "application/vnd.databricks.v1+cell": {
                    "cellMetadata": {
                        "byteLimit": 2048000,
                        "rowLimit": 10000
                    },
                    "inputWidgets": {},
                    "nuid": "79e62667-2f75-4b88-897b-074e468b7ca3",
                    "showTitle": false,
                    "tableResultSettingsMap": {},
                    "title": ""
                },
                "extensions": {
                    "azuredatastudio": {
                        "views": []
                    }
                },
                "azdata_cell_guid": "7af4f8ac-7265-4ce3-9666-56694f3fb929"
            }
        },
        {
            "cell_type": "code",
            "source": [
                "from custom_utils.catalog.catalog_utils import DataStorageManager\n",
                "\n",
                "# Initialize the DataStorageManager class\n",
                "storage_manager = DataStorageManager(logger=logger, debug=True)\n",
                "\n",
                "storage_manager.manage_data_operation(\n",
                "    spark=spark,\n",
                "    dbutils=dbutils,\n",
                "    cleaned_data_view=cleaned_data_view,  # The view you want to merge\n",
                "    key_columns=key_columns,  # Key columns to use for merging\n",
                "    destination_folder_path=destination_folder_path,  # Destination folder path\n",
                "    destination_environment=destination_environment,  # The database name\n",
                "    source_datasetidentifier=source_datasetidentifier,  # The table name\n",
                "    use_python=False  # Set to True to use Python DataFrame operations; False for SQL\n",
                ")"
            ],
            "metadata": {
                "application/vnd.databricks.v1+cell": {
                    "cellMetadata": {
                        "byteLimit": 2048000,
                        "rowLimit": 10000
                    },
                    "inputWidgets": {},
                    "nuid": "4fb05974-9a42-4b69-b8a8-45d2bff0045b",
                    "showTitle": false,
                    "tableResultSettingsMap": {},
                    "title": ""
                },
                "extensions": {
                    "azuredatastudio": {
                        "views": []
                    }
                },
                "azdata_cell_guid": "161ea6da-31ba-4eae-b26f-f74386c0d7b2"
            },
            "outputs": [],
            "execution_count": null
        },
        {
            "cell_type": "markdown",
            "source": [
                "## Finishing"
            ],
            "metadata": {
                "application/vnd.databricks.v1+cell": {
                    "cellMetadata": {
                        "byteLimit": 2048000,
                        "rowLimit": 10000
                    },
                    "inputWidgets": {},
                    "nuid": "fddb2cb7-435c-4194-b170-98f1d45870f5",
                    "showTitle": false,
                    "tableResultSettingsMap": {},
                    "title": ""
                },
                "extensions": {
                    "azuredatastudio": {
                        "views": []
                    }
                },
                "azdata_cell_guid": "4145bb1a-3490-4f41-b27f-fe98f8000e7d"
            }
        },
        {
            "cell_type": "markdown",
            "source": [
                "### Return period (from_datetime, to_datetime) covered by data read"
            ],
            "metadata": {
                "application/vnd.databricks.v1+cell": {
                    "cellMetadata": {
                        "byteLimit": 2048000,
                        "rowLimit": 10000
                    },
                    "inputWidgets": {},
                    "nuid": "7733a34e-e005-45ad-b39d-516c2d7fa86a",
                    "showTitle": false,
                    "tableResultSettingsMap": {},
                    "title": ""
                },
                "extensions": {
                    "azuredatastudio": {
                        "views": []
                    }
                },
                "azdata_cell_guid": "96677a84-ba8c-4827-b8ac-8a515762563e"
            }
        },
        {
            "cell_type": "code",
            "source": [
                "# Run the main function to generate feedback timestamps\n",
                "notebook_output = storage_manager.generate_feedback_timestamps(\n",
                "    spark=spark, \n",
                "    view_name=cleaned_data_view, \n",
                "    feedback_column=feedback_column,\n",
                "    key_columns=key_columns\n",
                ")"
            ],
            "metadata": {
                "application/vnd.databricks.v1+cell": {
                    "cellMetadata": {
                        "byteLimit": 2048000,
                        "rowLimit": 10000
                    },
                    "inputWidgets": {},
                    "nuid": "ba93e708-f7c3-4fc3-ac59-d33d8ca6212d",
                    "showTitle": false,
                    "tableResultSettingsMap": {},
                    "title": ""
                },
                "extensions": {
                    "azuredatastudio": {
                        "views": []
                    }
                },
                "azdata_cell_guid": "19eccd88-4666-4f98-a4ca-05d33d8dc2e2"
            },
            "outputs": [],
            "execution_count": null
        },
        {
            "cell_type": "markdown",
            "source": [
                "## Exit the notebook"
            ],
            "metadata": {
                "application/vnd.databricks.v1+cell": {
                    "cellMetadata": {
                        "byteLimit": 2048000,
                        "rowLimit": 10000
                    },
                    "inputWidgets": {},
                    "nuid": "9575e5b5-8a66-49f4-a2cc-179fb135bd81",
                    "showTitle": false,
                    "tableResultSettingsMap": {},
                    "title": ""
                },
                "extensions": {
                    "azuredatastudio": {
                        "views": []
                    }
                },
                "azdata_cell_guid": "f1538b6b-2fb2-4808-913f-91054149f4c7"
            }
        },
        {
            "cell_type": "code",
            "source": [
                "# Use dbutils to exit the notebook\n",
                "dbutils.notebook.exit(notebook_output)"
            ],
            "metadata": {
                "application/vnd.databricks.v1+cell": {
                    "cellMetadata": {
                        "byteLimit": 2048000,
                        "rowLimit": 10000
                    },
                    "inputWidgets": {},
                    "nuid": "21ad0941-ccbc-457c-9c5d-da5728b632d9",
                    "showTitle": false,
                    "tableResultSettingsMap": {},
                    "title": ""
                },
                "extensions": {
                    "azuredatastudio": {
                        "views": []
                    }
                },
                "azdata_cell_guid": "25c99e7e-4437-434f-b6ee-24dfd4755524"
            },
            "outputs": [],
            "execution_count": null
        }
    ]
}