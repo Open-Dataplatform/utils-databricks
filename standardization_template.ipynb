{
    "metadata": {
        "kernelspec": {
            "name": "SQL",
            "display_name": "SQL",
            "language": "sql"
        },
        "language_info": {
            "name": "sql",
            "version": ""
        },
        "application/vnd.databricks.v1+notebook": {
            "dashboards": [],
            "environmentMetadata": {
                "base_environment": "",
                "client": "1"
            },
            "language": "python",
            "notebookMetadata": {
                "mostRecentlyExecutedCommandWithImplicitDF": {
                    "commandId": 3036372080102388,
                    "dataframes": [
                        "_sqldf"
                    ]
                },
                "pythonIndentUnit": 4
            },
            "notebookName": "s-data_group__entityname",
            "widgets": {
                "DepthLevel": {
                    "currentValue": "1",
                    "nuid": "a243f59a-499e-4691-a947-f10921b8e64c",
                    "typedWidgetInfo": {
                        "autoCreated": false,
                        "defaultValue": "",
                        "label": "Depth Level",
                        "name": "DepthLevel",
                        "options": {
                            "widgetDisplayType": "Text",
                            "validationRegex": null
                        },
                        "parameterDataType": "String"
                    },
                    "widgetInfo": {
                        "widgetType": "text",
                        "defaultValue": "",
                        "label": "Depth Level",
                        "name": "DepthLevel",
                        "options": {
                            "widgetType": "text",
                            "autoCreated": null,
                            "validationRegex": null
                        }
                    }
                },
                "DestinationStorageAccount": {
                    "currentValue": "dpuniformstoragetest",
                    "nuid": "f9bda907-b660-4235-83fc-c51e480d7921",
                    "typedWidgetInfo": {
                        "autoCreated": false,
                        "defaultValue": "",
                        "label": null,
                        "name": "DestinationStorageAccount",
                        "options": {
                            "widgetDisplayType": "Text",
                            "validationRegex": null
                        },
                        "parameterDataType": "String"
                    },
                    "widgetInfo": {
                        "widgetType": "text",
                        "defaultValue": "",
                        "label": null,
                        "name": "DestinationStorageAccount",
                        "options": {
                            "widgetType": "text",
                            "autoCreated": null,
                            "validationRegex": null
                        }
                    }
                },
                "FeedbackColumn": {
                    "currentValue": "EventTimestamp",
                    "nuid": "cd30b1cc-4e51-49f6-aa6e-cc35459dd889",
                    "typedWidgetInfo": {
                        "autoCreated": false,
                        "defaultValue": "",
                        "label": null,
                        "name": "FeedbackColumn",
                        "options": {
                            "widgetDisplayType": "Text",
                            "validationRegex": null
                        },
                        "parameterDataType": "String"
                    },
                    "widgetInfo": {
                        "widgetType": "text",
                        "defaultValue": "",
                        "label": null,
                        "name": "FeedbackColumn",
                        "options": {
                            "widgetType": "text",
                            "autoCreated": null,
                            "validationRegex": null
                        }
                    }
                },
                "KeyColumns": {
                    "currentValue": "Guid",
                    "nuid": "f35480ff-4280-4b76-92c5-d15295b4ea31",
                    "typedWidgetInfo": {
                        "autoCreated": false,
                        "defaultValue": "",
                        "label": null,
                        "name": "KeyColumns",
                        "options": {
                            "widgetDisplayType": "Text",
                            "validationRegex": null
                        },
                        "parameterDataType": "String"
                    },
                    "widgetInfo": {
                        "widgetType": "text",
                        "defaultValue": "",
                        "label": null,
                        "name": "KeyColumns",
                        "options": {
                            "widgetType": "text",
                            "autoCreated": null,
                            "validationRegex": null
                        }
                    }
                },
                "SchemaFolderName": {
                    "currentValue": "schemachecks",
                    "nuid": "3ca4efd4-f1cf-4e05-918f-4afdb030ca3d",
                    "typedWidgetInfo": {
                        "autoCreated": false,
                        "defaultValue": "",
                        "label": null,
                        "name": "SchemaFolderName",
                        "options": {
                            "widgetDisplayType": "Text",
                            "validationRegex": null
                        },
                        "parameterDataType": "String"
                    },
                    "widgetInfo": {
                        "widgetType": "text",
                        "defaultValue": "",
                        "label": null,
                        "name": "SchemaFolderName",
                        "options": {
                            "widgetType": "text",
                            "autoCreated": null,
                            "validationRegex": null
                        }
                    }
                },
                "SourceContainer": {
                    "currentValue": "landing",
                    "nuid": "07b4d523-cee9-437a-ae7a-46fa08d107fd",
                    "typedWidgetInfo": {
                        "autoCreated": false,
                        "defaultValue": "",
                        "label": null,
                        "name": "SourceContainer",
                        "options": {
                            "widgetDisplayType": "Text",
                            "validationRegex": null
                        },
                        "parameterDataType": "String"
                    },
                    "widgetInfo": {
                        "widgetType": "text",
                        "defaultValue": "",
                        "label": null,
                        "name": "SourceContainer",
                        "options": {
                            "widgetType": "text",
                            "autoCreated": null,
                            "validationRegex": null
                        }
                    }
                },
                "SourceDatasetidentifier": {
                    "currentValue": "triton__flow_plans",
                    "nuid": "35e7726b-82ab-4d0c-a01c-4d1974e3aa4e",
                    "typedWidgetInfo": {
                        "autoCreated": false,
                        "defaultValue": "",
                        "label": null,
                        "name": "SourceDatasetidentifier",
                        "options": {
                            "widgetDisplayType": "Text",
                            "validationRegex": null
                        },
                        "parameterDataType": "String"
                    },
                    "widgetInfo": {
                        "widgetType": "text",
                        "defaultValue": "",
                        "label": null,
                        "name": "SourceDatasetidentifier",
                        "options": {
                            "widgetType": "text",
                            "autoCreated": null,
                            "validationRegex": null
                        }
                    }
                },
                "SourceFileName": {
                    "currentValue": "triton__flow_plans-20240820*.json",
                    "nuid": "d08a3208-5e77-4e76-9675-792aa688c1b1",
                    "typedWidgetInfo": {
                        "autoCreated": false,
                        "defaultValue": "",
                        "label": null,
                        "name": "SourceFileName",
                        "options": {
                            "widgetDisplayType": "Text",
                            "validationRegex": null
                        },
                        "parameterDataType": "String"
                    },
                    "widgetInfo": {
                        "widgetType": "text",
                        "defaultValue": "",
                        "label": null,
                        "name": "SourceFileName",
                        "options": {
                            "widgetType": "text",
                            "autoCreated": null,
                            "validationRegex": null
                        }
                    }
                },
                "SourceStorageAccount": {
                    "currentValue": "dplandingstoragetest",
                    "nuid": "b6200beb-3d4b-404c-bd3c-5d37816a6007",
                    "typedWidgetInfo": {
                        "autoCreated": false,
                        "defaultValue": "",
                        "label": null,
                        "name": "SourceStorageAccount",
                        "options": {
                            "widgetDisplayType": "Text",
                            "validationRegex": null
                        },
                        "parameterDataType": "String"
                    },
                    "widgetInfo": {
                        "widgetType": "text",
                        "defaultValue": "",
                        "label": null,
                        "name": "SourceStorageAccount",
                        "options": {
                            "widgetType": "text",
                            "autoCreated": null,
                            "validationRegex": null
                        }
                    }
                }
            }
        },
        "extensions": {
            "azuredatastudio": {
                "version": 1,
                "views": []
            }
        }
    },
    "nbformat_minor": 2,
    "nbformat": 4,
    "cells": [
        {
            "cell_type": "markdown",
            "source": [
                "\n",
                "# JSON Standardization and Flattening\n",
                "This notebook is responsible for standardizing and flattening JSON files. It reads the raw JSON data from the landing zone, applies a schema for validation, flattens nested structures, and then writes the transformed data as Delta Parquet files.\n",
                "\n",
                "Key Features:\n",
                "- Reads JSON files from the landing zone.\n",
                "- Applies a predefined schema for data validation (ensure the schema file is available at landing/schemachecks/[datasetidentifier]/[datasetidentifier]_schema.json).\n",
                "- Flattens nested JSON structures for easier querying and analysis.\n",
                "- Saves the processed data as Delta Parquet files for efficient storage and querying."
            ],
            "metadata": {
                "application/vnd.databricks.v1+cell": {
                    "cellMetadata": {},
                    "inputWidgets": {},
                    "nuid": "885d4802-5384-48d9-84d9-003537edafd0",
                    "showTitle": false,
                    "title": ""
                },
                "extensions": {
                    "azuredatastudio": {
                        "views": []
                    }
                },
                "azdata_cell_guid": "52ad81f9-8717-4ce2-ad2c-b081af4fe2a0"
            }
        },
        {
            "cell_type": "markdown",
            "source": [
                "## Widget Initialization and Configuration"
            ],
            "metadata": {
                "application/vnd.databricks.v1+cell": {
                    "cellMetadata": {},
                    "inputWidgets": {},
                    "nuid": "4dbb37ce-38e1-411b-aa60-83670517ba13",
                    "showTitle": false,
                    "title": ""
                },
                "extensions": {
                    "azuredatastudio": {
                        "views": []
                    }
                },
                "azdata_cell_guid": "9c4f0cc4-4b80-4c8f-9df4-1446001d9828"
            }
        },
        {
            "cell_type": "code",
            "source": [
                "# Source and Destination Storage Accounts\n",
                "dbutils.widgets.text(\"SourceStorageAccount\", \"dplandingstoragetest\", \"Source Storage Account\")\n",
                "dbutils.widgets.text(\"DestinationStorageAccount\", \"dpuniformstoragetest\", \"Destination Storage Account\")\n",
                "\n",
                "# Source container and dataset identifier\n",
                "dbutils.widgets.text(\"SourceContainer\", \"landing\", \"Source Container\")\n",
                "dbutils.widgets.text(\"SourceDatasetidentifier\", \"triton__flow_plans\", \"Source Datasetidentifier\")\n",
                "\n",
                "# Source file and key columns\n",
                "dbutils.widgets.text(\"SourceFileName\", \"*\", \"Source File Name\")\n",
                "dbutils.widgets.text(\"KeyColumns\", \"Guid\", \"Key Columns\")\n",
                "\n",
                "# Feedback column and flattening option\n",
                "dbutils.widgets.text(\"FeedbackColumn\", \"EventTimestamp\", \"Feedback Column\")\n",
                "dbutils.widgets.text(\"DepthLevel\", \"\", \"Depth Level\")\n",
                "dbutils.widgets.text(\"SchemaFolderName\", \"schemachecks\", \"Schema Folder Name\")"
            ],
            "metadata": {
                "application/vnd.databricks.v1+cell": {
                    "cellMetadata": {
                        "byteLimit": 2048000,
                        "rowLimit": 10000
                    },
                    "inputWidgets": {},
                    "nuid": "94264441-9229-46de-9ba8-6c8bdff25add",
                    "showTitle": false,
                    "title": ""
                },
                "extensions": {
                    "azuredatastudio": {
                        "views": []
                    }
                },
                "azdata_cell_guid": "a953e707-67e9-4d39-899b-6c77871b0d9b"
            },
            "outputs": [
                {
                    "output_type": "display_data",
                    "data": {
                        "text/html": "<style scoped>\n  .ansiout {\n    display: block;\n    unicode-bidi: embed;\n    white-space: pre-wrap;\n    word-wrap: break-word;\n    word-break: break-all;\n    font-family: \"Menlo\", \"Monaco\", \"Consolas\", \"Ubuntu Mono\", \"Source Code Pro\", monospace;\n    font-size: 13px;\n    color: #555;\n    margin-left: 4px;\n    line-height: 19px;\n  }\n</style>\n<div class=\"ansiout\"></div>"
                    },
                    "metadata": {
                        "application/vnd.databricks.v1+output": {
                            "addedWidgets": {},
                            "arguments": {},
                            "data": "<div class=\"ansiout\"></div>",
                            "datasetInfos": [],
                            "metadata": {},
                            "removedWidgets": [],
                            "type": "html"
                        }
                    }
                }
            ],
            "execution_count": null
        },
        {
            "cell_type": "markdown",
            "source": [
                "## Setup"
            ],
            "metadata": {
                "application/vnd.databricks.v1+cell": {
                    "cellMetadata": {},
                    "inputWidgets": {},
                    "nuid": "88bd02df-807a-4166-a189-2a088dddc7d1",
                    "showTitle": false,
                    "title": ""
                },
                "extensions": {
                    "azuredatastudio": {
                        "views": []
                    }
                },
                "azdata_cell_guid": "e66c26ea-2048-4bc1-aafb-26f81fa51cc7"
            }
        },
        {
            "cell_type": "markdown",
            "source": [
                "### Package Installation and Management"
            ],
            "metadata": {
                "application/vnd.databricks.v1+cell": {
                    "cellMetadata": {},
                    "inputWidgets": {},
                    "nuid": "902db38c-d74e-4531-8935-0360c9336e03",
                    "showTitle": false,
                    "title": ""
                },
                "extensions": {
                    "azuredatastudio": {
                        "views": []
                    }
                },
                "azdata_cell_guid": "1e09d582-0d48-4d76-bd29-795b76aa4caf"
            }
        },
        {
            "cell_type": "code",
            "source": [
                "# Install necessary packages\n",
                "# Ensure to use the specific versions needed.\n",
                "\n",
                "# Uninstall the existing package version (uncomment if a previous version is present).\n",
                "# %pip uninstall databricks-custom-utils -y\n",
                "\n",
                "# Install the package from the GitHub repository's specified branch.\n",
                "%pip install --force-reinstall git+https://github.com/xazms/utils-databricks.git@v0.6.4"
            ],
            "metadata": {
                "application/vnd.databricks.v1+cell": {
                    "cellMetadata": {
                        "byteLimit": 2048000,
                        "rowLimit": 10000
                    },
                    "inputWidgets": {},
                    "nuid": "d4f7118a-4054-4e28-ac04-c9942b9622c3",
                    "showTitle": false,
                    "title": ""
                },
                "extensions": {
                    "azuredatastudio": {
                        "views": []
                    }
                },
                "azdata_cell_guid": "5ff6d9af-6335-4fb8-ab95-6877fb9a8ee9"
            },
            "outputs": [],
            "execution_count": null
        },
        {
            "cell_type": "code",
            "source": [
                "try:\n",
                "    import databricks_custom_utils\n",
                "except ImportError:\n",
                "    # Package is not installed, so install it\n",
                "    %pip install git+https://github.com/xazms/utils-databricks.git@v0.6.4"
            ],
            "metadata": {
                "application/vnd.databricks.v1+cell": {
                    "cellMetadata": {
                        "byteLimit": 2048000,
                        "rowLimit": 10000
                    },
                    "inputWidgets": {},
                    "nuid": "de6476b4-908f-4688-844a-a74b625863bb",
                    "showTitle": false,
                    "title": ""
                },
                "extensions": {
                    "azuredatastudio": {
                        "views": []
                    }
                },
                "azdata_cell_guid": "89ac3126-9ee6-4820-8f01-6cdd50ed9ed0"
            },
            "outputs": [],
            "execution_count": null
        },
        {
            "cell_type": "markdown",
            "source": [
                "### Initialize notebook and get parameters"
            ],
            "metadata": {
                "application/vnd.databricks.v1+cell": {
                    "cellMetadata": {},
                    "inputWidgets": {},
                    "nuid": "9fe0fe40-e8a1-4a4a-98a2-d426bdf66636",
                    "showTitle": false,
                    "title": ""
                },
                "extensions": {
                    "azuredatastudio": {
                        "views": []
                    }
                },
                "azdata_cell_guid": "90a90a08-57eb-4555-b261-a70d79130618"
            }
        },
        {
            "cell_type": "code",
            "source": [
                "from custom_utils.config import initialize_notebook\n",
                "\n",
                "# Initialize the notebook with the specified configuration and logger\n",
                "spark, config, logger = initialize_notebook(dbutils=dbutils, debug=True)\n",
                "\n",
                "# Unpack the configuration parameters into the global namespace for easy access throughout the notebook.\n",
                "config.unpack(globals())"
            ],
            "metadata": {
                "application/vnd.databricks.v1+cell": {
                    "cellMetadata": {
                        "byteLimit": 2048000,
                        "rowLimit": 10000
                    },
                    "inputWidgets": {},
                    "nuid": "f980a4d9-91ac-493f-8ba4-c52a8914d029",
                    "showTitle": false,
                    "title": ""
                },
                "extensions": {
                    "azuredatastudio": {
                        "views": []
                    }
                },
                "azdata_cell_guid": "cf683e4d-5241-42a6-bbef-b91050b9f152"
            },
            "outputs": [],
            "execution_count": null
        },
        {
            "cell_type": "markdown",
            "source": [
                "### Verify paths and files"
            ],
            "metadata": {
                "application/vnd.databricks.v1+cell": {
                    "cellMetadata": {},
                    "inputWidgets": {},
                    "nuid": "a894f790-a8c1-4be8-bff3-e6ec2a87ae19",
                    "showTitle": false,
                    "title": ""
                },
                "extensions": {
                    "azuredatastudio": {
                        "views": []
                    }
                },
                "azdata_cell_guid": "11a588b0-a661-4638-9607-2d1274cf587c"
            }
        },
        {
            "cell_type": "code",
            "source": [
                "from custom_utils.validation.validation import PathValidator\n",
                "\n",
                "# Initialize the PathValidator with the provided configuration\n",
                "validator = PathValidator(config, logger, debug=True)\n",
                "\n",
                "# Perform validation of schema and source paths, returning validated paths and file type.\n",
                "schema_file_path, data_file_path, matched_files, file_type = validator.verify_paths_and_files()"
            ],
            "metadata": {
                "application/vnd.databricks.v1+cell": {
                    "cellMetadata": {
                        "byteLimit": 2048000,
                        "rowLimit": 10000
                    },
                    "inputWidgets": {},
                    "nuid": "027fc098-4679-4a6d-9d68-d1b340db222d",
                    "showTitle": false,
                    "title": ""
                },
                "extensions": {
                    "azuredatastudio": {
                        "views": []
                    }
                },
                "azdata_cell_guid": "2a7cfd1f-126b-423c-a7f0-06f483d6a790"
            },
            "outputs": [],
            "execution_count": null
        },
        {
            "cell_type": "markdown",
            "source": [
                "## Processing Workflow"
            ],
            "metadata": {
                "application/vnd.databricks.v1+cell": {
                    "cellMetadata": {},
                    "inputWidgets": {},
                    "nuid": "b98b13d8-14b9-4acf-8983-d8358c3d4dc8",
                    "showTitle": false,
                    "title": ""
                },
                "extensions": {
                    "azuredatastudio": {
                        "views": []
                    }
                },
                "azdata_cell_guid": "164b7850-fc7a-40e7-b501-c25d5e4cf3f5"
            }
        },
        {
            "cell_type": "markdown",
            "source": [
                "### Flattening and Processing Nested JSON Data"
            ],
            "metadata": {
                "application/vnd.databricks.v1+cell": {
                    "cellMetadata": {},
                    "inputWidgets": {},
                    "nuid": "771891eb-826b-4359-a504-5436ff0c0139",
                    "showTitle": false,
                    "title": ""
                },
                "extensions": {
                    "azuredatastudio": {
                        "views": []
                    }
                },
                "azdata_cell_guid": "1e8083bf-b432-44cd-930a-b8e789ea46a1"
            }
        },
        {
            "cell_type": "code",
            "source": [
                "from pyspark.sql.functions import col\n",
                "from custom_utils.transformations.dataframe import DataFrameTransformer\n",
                "\n",
                "# Initialize the DataFrameTransformer\n",
                "transformer = DataFrameTransformer(logger=logger, debug=True)\n",
                "\n",
                "# Call the process_and_flatten_json method using the transformer instance\n",
                "df, df_flattened = transformer.process_and_flatten_json(\n",
                "    schema_file_path=schema_file_path,\n",
                "    data_file_path=data_file_path,\n",
                "    logger=logger,\n",
                "    depth_level=depth_level,  # Override the config depth level if needed\n",
                "    debug=False,              # Enable detailed debug logs\n",
                "    include_schema=False      # Control whether to include schema JSON logging\n",
                ")\n",
                "\n",
                "# Rename the column \"Timestamp\" to \"EventTimestamp\" and cast it to timestamp\n",
                "df_flattened = df_flattened.withColumnRenamed(\"Timestamp\", \"EventTimestamp\") \\\n",
                "                           .withColumn(\"EventTimestamp\", col(\"EventTimestamp\").cast(\"timestamp\"))\n",
                "\n",
                "# Optionally: Display the flattened DataFrame to verify the result (useful in Databricks or Jupyter)\n",
                "display(df_flattened)"
            ],
            "metadata": {
                "application/vnd.databricks.v1+cell": {
                    "cellMetadata": {
                        "byteLimit": 2048000,
                        "rowLimit": 10000
                    },
                    "inputWidgets": {},
                    "nuid": "10595b9a-ae4b-44b8-861b-1841d00fcc78",
                    "showTitle": false,
                    "title": ""
                },
                "extensions": {
                    "azuredatastudio": {
                        "views": []
                    }
                },
                "azdata_cell_guid": "1e186d4f-ad9e-4f6f-8343-c1a2b5eb27b5"
            },
            "outputs": [],
            "execution_count": null
        },
        {
            "cell_type": "markdown",
            "source": [
                "## Quality check "
            ],
            "metadata": {
                "application/vnd.databricks.v1+cell": {
                    "cellMetadata": {},
                    "inputWidgets": {},
                    "nuid": "9b3c28ce-8735-463d-87e0-d5c24766e39f",
                    "showTitle": false,
                    "title": ""
                },
                "extensions": {
                    "azuredatastudio": {
                        "views": []
                    }
                },
                "azdata_cell_guid": "646f3c2c-6089-4717-b19a-00a0e5951e28"
            }
        },
        {
            "cell_type": "markdown",
            "source": [
                "### Abort if duplicates exists in new data"
            ],
            "metadata": {
                "application/vnd.databricks.v1+cell": {
                    "cellMetadata": {},
                    "inputWidgets": {},
                    "nuid": "ed7d3059-0a9d-4564-8ade-05eb28ae15e0",
                    "showTitle": false,
                    "title": ""
                },
                "extensions": {
                    "azuredatastudio": {
                        "views": []
                    }
                },
                "azdata_cell_guid": "00c19388-f7bb-43cd-9233-0d7efc1d45f2"
            }
        },
        {
            "cell_type": "code",
            "source": [
                "from custom_utils.quality.quality import Quality\n",
                "\n",
                "# Initialize the Quality class\n",
                "quality_checker = Quality(logger=logger, debug=True)\n",
                "\n",
                "# Assuming 'reference_table' is the table you want to use for referential integrity check\n",
                "reference_df = spark.table(f\"{destination_environment}.{source_datasetidentifier}\")\n",
                "\n",
                "# Apply quality checks, excluding 'input_file_name' and specifying other parameters as needed\n",
                "temp_view_name = quality_checker.apply_all_checks(\n",
                "    spark=spark,\n",
                "    df=df_flattened,\n",
                "    key_columns=['Guid'],\n",
                "    critical_columns=['Guid', 'EventTimestamp', 'ValidFrom', 'ValidTo'],\n",
                "    column_ranges={'CommercialBalance': (-5869732, 1000000), 'PhysicalBalance': (-5869732, 1000000)},\n",
                "    reference_df=reference_df,\n",
                "    join_column='Guid',\n",
                "    consistency_pairs=[('ValidFrom', 'ValidTo')],\n",
                "    columns_to_exclude=['input_file_name']\n",
                ")\n",
                "\n",
                "# Display the new view\n",
                "spark.sql(f\"SELECT * FROM {temp_view_name}\").show()"
            ],
            "metadata": {
                "application/vnd.databricks.v1+cell": {
                    "cellMetadata": {
                        "byteLimit": 2048000,
                        "rowLimit": 10000
                    },
                    "inputWidgets": {},
                    "nuid": "ea5e9f64-edb5-4ecf-bba8-6745de1db017",
                    "showTitle": false,
                    "title": ""
                },
                "extensions": {
                    "azuredatastudio": {
                        "views": []
                    }
                },
                "azdata_cell_guid": "678703c8-7458-499a-9972-3f6302aea04c"
            },
            "outputs": [],
            "execution_count": null
        },
        {
            "cell_type": "markdown",
            "source": [
                "## Write"
            ],
            "metadata": {
                "application/vnd.databricks.v1+cell": {
                    "cellMetadata": {},
                    "inputWidgets": {},
                    "nuid": "b88c2a2f-e8d7-479a-b9fd-524237bab500",
                    "showTitle": false,
                    "title": ""
                },
                "extensions": {
                    "azuredatastudio": {
                        "views": []
                    }
                },
                "azdata_cell_guid": "b35f1a27-4c45-4c5e-ba26-9f3125a2b679"
            }
        },
        {
            "cell_type": "markdown",
            "source": [
                "### Unified Data Storage Management: Table Creation and Data Merging"
            ],
            "metadata": {
                "application/vnd.databricks.v1+cell": {
                    "cellMetadata": {},
                    "inputWidgets": {},
                    "nuid": "90b8d941-6c78-49ec-af04-118edf0e8f7f",
                    "showTitle": false,
                    "title": ""
                },
                "extensions": {
                    "azuredatastudio": {
                        "views": []
                    }
                },
                "azdata_cell_guid": "45cbe422-4315-4d46-973b-068248b4b8f3"
            }
        },
        {
            "cell_type": "code",
            "source": [
                "from custom_utils.catalog.catalog_utils import DataStorageManager\n",
                "\n",
                "# Initialize the DataStorageManager class\n",
                "storage_manager = DataStorageManager(logger=logger, debug=True)\n",
                "\n",
                "storage_manager.manage_data_operation(\n",
                "    spark=spark,\n",
                "    dbutils=dbutils,\n",
                "    destination_environment=destination_environment,\n",
                "    source_datasetidentifier=source_datasetidentifier,\n",
                "    temp_view_name=temp_view_name,\n",
                "    key_columns=key_columns\n",
                ")"
            ],
            "metadata": {
                "application/vnd.databricks.v1+cell": {
                    "cellMetadata": {
                        "byteLimit": 2048000,
                        "rowLimit": 10000
                    },
                    "inputWidgets": {},
                    "nuid": "c5386e77-1381-41a7-aae3-7bd3029c844f",
                    "showTitle": false,
                    "title": ""
                },
                "extensions": {
                    "azuredatastudio": {
                        "views": []
                    }
                },
                "azdata_cell_guid": "aeadaf49-eae4-400a-ad1e-bd1171aebe8a"
            },
            "outputs": [],
            "execution_count": null
        },
        {
            "cell_type": "markdown",
            "source": [
                "## Finishing"
            ],
            "metadata": {
                "application/vnd.databricks.v1+cell": {
                    "cellMetadata": {},
                    "inputWidgets": {},
                    "nuid": "708335a8-3deb-4835-ad1f-1c1baecaef32",
                    "showTitle": false,
                    "title": ""
                },
                "extensions": {
                    "azuredatastudio": {
                        "views": []
                    }
                },
                "azdata_cell_guid": "cf076731-15d0-425d-a5a9-a0a46a54c529"
            }
        },
        {
            "cell_type": "markdown",
            "source": [
                "### Return period (from_datetime, to_datetime) covered by data read"
            ],
            "metadata": {
                "application/vnd.databricks.v1+cell": {
                    "cellMetadata": {},
                    "inputWidgets": {},
                    "nuid": "a8e9980e-5621-400b-a5ce-fca359e96fff",
                    "showTitle": false,
                    "title": ""
                },
                "extensions": {
                    "azuredatastudio": {
                        "views": []
                    }
                },
                "azdata_cell_guid": "7f430403-6729-4353-b6aa-a44a129cff5e"
            }
        },
        {
            "cell_type": "code",
            "source": [
                "from custom_utils.catalog.catalog_utils import DataStorageManager\n",
                "\n",
                "# Initialize the DataStorageManager class\n",
                "storage_manager = DataStorageManager(logger=logger, debug=True)\n",
                "\n",
                "# Run the main function to generate feedback timestamps\n",
                "notebook_output = storage_manager.generate_feedback_timestamps(\n",
                "    spark=spark, \n",
                "    view_name=temp_view_name, \n",
                "    feedback_column=feedback_column\n",
                ")"
            ],
            "metadata": {
                "application/vnd.databricks.v1+cell": {
                    "cellMetadata": {
                        "byteLimit": 2048000,
                        "rowLimit": 10000
                    },
                    "inputWidgets": {},
                    "nuid": "743d14cc-c9d3-427f-918a-e741886e282b",
                    "showTitle": false,
                    "title": ""
                },
                "extensions": {
                    "azuredatastudio": {
                        "views": []
                    }
                },
                "azdata_cell_guid": "e1c68f29-00a4-4ce7-8a78-140520fec4b7"
            },
            "outputs": [],
            "execution_count": null
        },
        {
            "cell_type": "markdown",
            "source": [
                "### Exit the notebook "
            ],
            "metadata": {
                "application/vnd.databricks.v1+cell": {
                    "cellMetadata": {},
                    "inputWidgets": {},
                    "nuid": "bc31b43c-3731-44d8-af22-1ed930832914",
                    "showTitle": false,
                    "title": ""
                },
                "extensions": {
                    "azuredatastudio": {
                        "views": []
                    }
                },
                "azdata_cell_guid": "b8abc6b0-d6e6-4335-af5a-095fdb404275"
            }
        },
        {
            "cell_type": "code",
            "source": [
                "# Use dbutils to exit the notebook\n",
                "dbutils.notebook.exit(notebook_output)"
            ],
            "metadata": {
                "application/vnd.databricks.v1+cell": {
                    "cellMetadata": {
                        "byteLimit": 2048000,
                        "rowLimit": 10000
                    },
                    "inputWidgets": {},
                    "nuid": "da4f1189-7323-4527-8641-169b05d5220d",
                    "showTitle": false,
                    "title": ""
                },
                "extensions": {
                    "azuredatastudio": {
                        "views": []
                    }
                },
                "azdata_cell_guid": "d5196418-b0ab-4ff6-9971-ec1e03298dd3"
            },
            "outputs": [],
            "execution_count": null
        }
    ]
}