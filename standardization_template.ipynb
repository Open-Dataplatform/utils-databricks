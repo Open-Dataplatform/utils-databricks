{
 "cells": [
  {
   "cell_type": "markdown",
   "metadata": {
    "application/vnd.databricks.v1+cell": {
     "cellMetadata": {},
     "inputWidgets": {},
     "nuid": "65e8ab46-eac3-4e40-8f0c-8fa824b26fc8",
     "showTitle": false,
     "tableResultSettingsMap": {},
     "title": ""
    }
   },
   "source": [
    "\n",
    "# JSON Standardization and Flattening\n",
    "This notebook is responsible for standardizing and flattening JSON files. It reads the raw JSON data from the landing zone, applies a schema for validation, flattens nested structures, and then writes the transformed data as Delta Parquet files.\n",
    "\n",
    "Key Features:\n",
    "- Reads JSON files from the landing zone.\n",
    "- Applies a predefined schema for data validation (ensure the schema file is available at landing/schemachecks/[datasetidentifier]/[datasetidentifier]_schema.json).\n",
    "- Flattens nested JSON structures for easier querying and analysis.\n",
    "- Saves the processed data as Delta Parquet files for efficient storage and querying."
   ]
  },
  {
   "cell_type": "markdown",
   "metadata": {
    "application/vnd.databricks.v1+cell": {
     "cellMetadata": {},
     "inputWidgets": {},
     "nuid": "2ed2c8f8-9fc1-4559-b3f4-c03eb278c7a8",
     "showTitle": false,
     "tableResultSettingsMap": {},
     "title": ""
    }
   },
   "source": [
    "## Widget Initialization and Configuration"
   ]
  },
  {
   "cell_type": "code",
   "execution_count": 0,
   "metadata": {
    "application/vnd.databricks.v1+cell": {
     "cellMetadata": {
      "byteLimit": 2048000,
      "rowLimit": 10000
     },
     "inputWidgets": {},
     "nuid": "b30ea5dd-3644-4bb3-85bf-3965ab7bedd7",
     "showTitle": false,
     "tableResultSettingsMap": {},
     "title": ""
    }
   },
   "outputs": [
    {
     "data": {
      "text/html": [
       "<style scoped>\n",
       "  .ansiout {\n",
       "    display: block;\n",
       "    unicode-bidi: embed;\n",
       "    white-space: pre-wrap;\n",
       "    word-wrap: break-word;\n",
       "    word-break: break-all;\n",
       "    font-family: \"Menlo\", \"Monaco\", \"Consolas\", \"Ubuntu Mono\", \"Source Code Pro\", monospace;\n",
       "    font-size: 13px;\n",
       "    color: #555;\n",
       "    margin-left: 4px;\n",
       "    line-height: 19px;\n",
       "  }\n",
       "</style>\n",
       "<div class=\"ansiout\"></div>"
      ]
     },
     "metadata": {
      "application/vnd.databricks.v1+output": {
       "addedWidgets": {},
       "arguments": {},
       "data": "<div class=\"ansiout\"></div>",
       "datasetInfos": [],
       "metadata": {},
       "removedWidgets": [],
       "type": "html"
      }
     },
     "output_type": "display_data"
    }
   ],
   "source": [
    "# Clear all existing widgets to avoid duplication\n",
    "dbutils.widgets.removeAll()"
   ]
  },
  {
   "cell_type": "markdown",
   "metadata": {
    "application/vnd.databricks.v1+cell": {
     "cellMetadata": {},
     "inputWidgets": {},
     "nuid": "235cff8b-2e26-4b9f-ba0d-7a6395e18149",
     "showTitle": false,
     "tableResultSettingsMap": {},
     "title": ""
    }
   },
   "source": [
    "### triton__flow_plans example (Json)"
   ]
  },
  {
   "cell_type": "code",
   "execution_count": 0,
   "metadata": {
    "application/vnd.databricks.v1+cell": {
     "cellMetadata": {
      "byteLimit": 2048000,
      "rowLimit": 10000
     },
     "collapsed": true,
     "inputWidgets": {},
     "nuid": "522d7779-f629-419d-bc11-8c2bf072b2ff",
     "showTitle": false,
     "tableResultSettingsMap": {},
     "title": ""
    }
   },
   "outputs": [
    {
     "data": {
      "text/html": [
       "<style scoped>\n",
       "  .ansiout {\n",
       "    display: block;\n",
       "    unicode-bidi: embed;\n",
       "    white-space: pre-wrap;\n",
       "    word-wrap: break-word;\n",
       "    word-break: break-all;\n",
       "    font-family: \"Menlo\", \"Monaco\", \"Consolas\", \"Ubuntu Mono\", \"Source Code Pro\", monospace;\n",
       "    font-size: 13px;\n",
       "    color: #555;\n",
       "    margin-left: 4px;\n",
       "    line-height: 19px;\n",
       "  }\n",
       "</style>\n",
       "<div class=\"ansiout\"></div>"
      ]
     },
     "metadata": {
      "application/vnd.databricks.v1+output": {
       "addedWidgets": {},
       "arguments": {},
       "data": "<div class=\"ansiout\"></div>",
       "datasetInfos": [],
       "metadata": {},
       "removedWidgets": [],
       "type": "html"
      }
     },
     "output_type": "display_data"
    }
   ],
   "source": [
    "# Clear all existing widgets to avoid duplication\n",
    "dbutils.widgets.removeAll()\n",
    "\n",
    "# Create a dropdown for FileType with predefined options\n",
    "dbutils.widgets.dropdown(\"FileType\", \"json\", [\"json\", \"xlsx\", \"xml\"], \"File Type\")\n",
    "\n",
    "# Source and Destination Storage Accounts\n",
    "dbutils.widgets.text(\"SourceStorageAccount\", \"dplandingstoragetest\", \"Source Storage Account\")\n",
    "dbutils.widgets.text(\"DestinationStorageAccount\", \"dpuniformstoragetest\", \"Destination Storage Account\")\n",
    "\n",
    "# Source container and dataset identifier\n",
    "dbutils.widgets.text(\"SourceContainer\", \"landing\", \"Source Container\")\n",
    "dbutils.widgets.text(\"SourceDatasetidentifier\", \"triton__flow_plans\", \"Source Datasetidentifier\")\n",
    "\n",
    "# Source file and key columns\n",
    "dbutils.widgets.text(\"SourceFileName\", \"triton__flow_plans-202408*\", \"Source File Name\")\n",
    "dbutils.widgets.text(\"KeyColumns\", \"Guid\", \"Key Columns\")\n",
    "\n",
    "# Feedback column and flattening option\n",
    "dbutils.widgets.text(\"FeedbackColumn\", \"EventTimestamp\", \"Feedback Column\")\n",
    "dbutils.widgets.text(\"DepthLevel\", \"1\", \"Depth Level\")\n",
    "dbutils.widgets.text(\"SchemaFolderName\", \"schemachecks\", \"Schema Folder Name\")"
   ]
  },
  {
   "cell_type": "markdown",
   "metadata": {
    "application/vnd.databricks.v1+cell": {
     "cellMetadata": {},
     "inputWidgets": {},
     "nuid": "01b67449-3ebc-4920-ab99-e040d4aaa94e",
     "showTitle": false,
     "tableResultSettingsMap": {},
     "title": ""
    }
   },
   "source": [
    "### cpx_so__nomination (Json)"
   ]
  },
  {
   "cell_type": "code",
   "execution_count": 0,
   "metadata": {
    "application/vnd.databricks.v1+cell": {
     "cellMetadata": {
      "byteLimit": 2048000,
      "rowLimit": 10000
     },
     "collapsed": true,
     "inputWidgets": {},
     "nuid": "8788f449-335c-43b2-bbec-1d9de81b7fa5",
     "showTitle": false,
     "tableResultSettingsMap": {},
     "title": ""
    }
   },
   "outputs": [
    {
     "data": {
      "text/html": [
       "<style scoped>\n",
       "  .ansiout {\n",
       "    display: block;\n",
       "    unicode-bidi: embed;\n",
       "    white-space: pre-wrap;\n",
       "    word-wrap: break-word;\n",
       "    word-break: break-all;\n",
       "    font-family: \"Menlo\", \"Monaco\", \"Consolas\", \"Ubuntu Mono\", \"Source Code Pro\", monospace;\n",
       "    font-size: 13px;\n",
       "    color: #555;\n",
       "    margin-left: 4px;\n",
       "    line-height: 19px;\n",
       "  }\n",
       "</style>\n",
       "<div class=\"ansiout\"></div>"
      ]
     },
     "metadata": {
      "application/vnd.databricks.v1+output": {
       "addedWidgets": {},
       "arguments": {},
       "data": "<div class=\"ansiout\"></div>",
       "datasetInfos": [],
       "metadata": {},
       "removedWidgets": [],
       "type": "html"
      }
     },
     "output_type": "display_data"
    }
   ],
   "source": [
    "# Clear all existing widgets to avoid duplication\n",
    "dbutils.widgets.removeAll()\n",
    "\n",
    "# Create a dropdown for FileType with predefined options\n",
    "dbutils.widgets.dropdown(\"FileType\", \"json\", [\"json\", \"xlsx\", \"xml\"], \"File Type\")\n",
    "\n",
    "# Source and Destination Storage Accounts\n",
    "dbutils.widgets.text(\"SourceStorageAccount\", \"dplandingstoragetest\", \"Source Storage Account\")\n",
    "dbutils.widgets.text(\"DestinationStorageAccount\", \"dpuniformstoragetest\", \"Destination Storage Account\")\n",
    "\n",
    "# Source container and dataset identifier\n",
    "dbutils.widgets.text(\"SourceContainer\", \"landing\", \"Source Container\")\n",
    "dbutils.widgets.text(\"SourceDatasetidentifier\", \"cpx_so__nomination\", \"Source Datasetidentifier\")\n",
    "\n",
    "# Source file and key columns\n",
    "dbutils.widgets.text(\"SourceFileName\", \"cpx_so__nomination-20241127T21*\", \"Source File Name\")\n",
    "dbutils.widgets.text(\"KeyColumns\", \"flows_accountInternal_code, flows_accountExternal_code, flows_location_code, flows_direction,  flows_periods_validityPeriod_begin, flows_periods_validityPeriod_end\", \"Key Columns\")\n",
    "\n",
    "# Feedback column and flattening option\n",
    "dbutils.widgets.text(\"FeedbackColumn\", \"dateCreated\", \"Feedback Column\")\n",
    "dbutils.widgets.text(\"DepthLevel\", \"6\", \"Depth Level\")\n",
    "dbutils.widgets.text(\"SchemaFolderName\", \"schemachecks\", \"Schema Folder Name\")"
   ]
  },
  {
   "cell_type": "markdown",
   "metadata": {
    "application/vnd.databricks.v1+cell": {
     "cellMetadata": {},
     "inputWidgets": {},
     "nuid": "3889e28c-ad89-4e50-9440-984ff8fa0920",
     "showTitle": false,
     "tableResultSettingsMap": {},
     "title": ""
    }
   },
   "source": [
    "### ddp_em__dayahead_flows_nemo (xml)"
   ]
  },
  {
   "cell_type": "code",
   "execution_count": 0,
   "metadata": {
    "application/vnd.databricks.v1+cell": {
     "cellMetadata": {
      "byteLimit": 2048000,
      "rowLimit": 10000
     },
     "collapsed": true,
     "inputWidgets": {},
     "nuid": "b3df0d7f-dfb5-4bd9-a5e6-46758a6e90e2",
     "showTitle": false,
     "tableResultSettingsMap": {},
     "title": ""
    }
   },
   "outputs": [
    {
     "data": {
      "text/html": [
       "<style scoped>\n",
       "  .ansiout {\n",
       "    display: block;\n",
       "    unicode-bidi: embed;\n",
       "    white-space: pre-wrap;\n",
       "    word-wrap: break-word;\n",
       "    word-break: break-all;\n",
       "    font-family: \"Menlo\", \"Monaco\", \"Consolas\", \"Ubuntu Mono\", \"Source Code Pro\", monospace;\n",
       "    font-size: 13px;\n",
       "    color: #555;\n",
       "    margin-left: 4px;\n",
       "    line-height: 19px;\n",
       "  }\n",
       "</style>\n",
       "<div class=\"ansiout\"></div>"
      ]
     },
     "metadata": {
      "application/vnd.databricks.v1+output": {
       "addedWidgets": {},
       "arguments": {},
       "data": "<div class=\"ansiout\"></div>",
       "datasetInfos": [],
       "metadata": {},
       "removedWidgets": [],
       "type": "html"
      }
     },
     "output_type": "display_data"
    }
   ],
   "source": [
    "# Clear all existing widgets to avoid duplication\n",
    "dbutils.widgets.removeAll()\n",
    "\n",
    "# Define parameters for the Databricks project with relevant options and defaults\n",
    "# These widgets allow for user input and dynamic configuration during notebook execution\n",
    "\n",
    "# Dropdown to select the file type for processing\n",
    "dbutils.widgets.dropdown(\"FileType\", \"xml\", [\"json\", \"xlsx\", \"xml\"], \"File Type\")\n",
    "\n",
    "# Text widgets for source and destination storage account names\n",
    "dbutils.widgets.text(\"SourceStorageAccount\", \"dplandingstoragetest\", \"Source Storage Account\")\n",
    "dbutils.widgets.text(\"DestinationStorageAccount\", \"dpuniformstoragetest\", \"Destination Storage Account\")\n",
    "\n",
    "# Source container and dataset identifier\n",
    "dbutils.widgets.text(\"SourceContainer\", \"landing\", \"Source Container\")\n",
    "dbutils.widgets.text(\"SourceDatasetidentifier\", \"ddp_em__dayahead_flows_nemo\", \"Source Datasetidentifier\")\n",
    "\n",
    "# File name pattern and key columns for data processing\n",
    "dbutils.widgets.text(\"SourceFileName\", \"ddp_em__dayahead_flows_nemo-202405*\", \"Source File Name\")\n",
    "dbutils.widgets.text(\"KeyColumns\", \"TimeSeries_mRID,TimeSeries_Period_timeInterval_start,TimeSeries_Period_Point_position\", \"Key Columns\")\n",
    "\n",
    "# Additional processing parameters\n",
    "dbutils.widgets.text(\"FeedbackColumn\", \"timeseries_timestamp\", \"Feedback Column\")\n",
    "dbutils.widgets.text(\"DepthLevel\", \"1\", \"Depth Level\")\n",
    "dbutils.widgets.text(\"SchemaFolderName\", \"schemachecks\", \"Schema Folder Name\")\n",
    "dbutils.widgets.text(\"XmlRootName\", \"Schedule_MarketDocument\", \"Xml Root Name\")"
   ]
  },
  {
   "cell_type": "markdown",
   "metadata": {
    "application/vnd.databricks.v1+cell": {
     "cellMetadata": {},
     "inputWidgets": {},
     "nuid": "34ae47fe-79dc-4ad8-ba41-78b26da4c30b",
     "showTitle": false,
     "tableResultSettingsMap": {},
     "title": ""
    }
   },
   "source": [
    "### ddp_cm__mfrr_settlement (xml)"
   ]
  },
  {
   "cell_type": "code",
   "execution_count": 0,
   "metadata": {
    "application/vnd.databricks.v1+cell": {
     "cellMetadata": {
      "byteLimit": 2048000,
      "rowLimit": 10000
     },
     "collapsed": true,
     "inputWidgets": {},
     "nuid": "0ced90e5-eb09-4675-b849-773f7a181199",
     "showTitle": false,
     "tableResultSettingsMap": {},
     "title": ""
    }
   },
   "outputs": [
    {
     "data": {
      "text/html": [
       "<style scoped>\n",
       "  .ansiout {\n",
       "    display: block;\n",
       "    unicode-bidi: embed;\n",
       "    white-space: pre-wrap;\n",
       "    word-wrap: break-word;\n",
       "    word-break: break-all;\n",
       "    font-family: \"Menlo\", \"Monaco\", \"Consolas\", \"Ubuntu Mono\", \"Source Code Pro\", monospace;\n",
       "    font-size: 13px;\n",
       "    color: #555;\n",
       "    margin-left: 4px;\n",
       "    line-height: 19px;\n",
       "  }\n",
       "</style>\n",
       "<div class=\"ansiout\"></div>"
      ]
     },
     "metadata": {
      "application/vnd.databricks.v1+output": {
       "addedWidgets": {},
       "arguments": {},
       "data": "<div class=\"ansiout\"></div>",
       "datasetInfos": [],
       "metadata": {},
       "removedWidgets": [],
       "type": "html"
      }
     },
     "output_type": "display_data"
    }
   ],
   "source": [
    "# Clear all existing widgets to avoid duplication\n",
    "dbutils.widgets.removeAll()\n",
    "\n",
    "# Define parameters for the Databricks project with relevant options and defaults\n",
    "# These widgets allow for user input and dynamic configuration during notebook execution\n",
    "\n",
    "# Dropdown to select the file type for processing\n",
    "dbutils.widgets.dropdown(\"FileType\", \"xml\", [\"json\", \"xlsx\", \"xml\"], \"File Type\")\n",
    "\n",
    "# Text widgets for source and destination storage account names\n",
    "dbutils.widgets.text(\"SourceStorageAccount\", \"dplandingstoragetest\", \"Source Storage Account\")\n",
    "dbutils.widgets.text(\"DestinationStorageAccount\", \"dpuniformstoragetest\", \"Destination Storage Account\")\n",
    "\n",
    "# Source container and dataset identifier\n",
    "dbutils.widgets.text(\"SourceContainer\", \"landing\", \"Source Container\")\n",
    "dbutils.widgets.text(\"SourceDatasetidentifier\", \"ddp_cm__mfrr_settlement\", \"Source Datasetidentifier\")\n",
    "\n",
    "# File name pattern and key columns for data processing\n",
    "dbutils.widgets.text(\"SourceFileName\", \"*\", \"Source File Name\")\n",
    "dbutils.widgets.text(\"KeyColumns\", \"mRID,TimeSeries_mRID,TimeSeries_Period_timeInterval_start,TimeSeries_Period_Point_position,TimeSeries_Period_resolution\", \"Key Columns\")\n",
    "\n",
    "# Additional processing parameters\n",
    "dbutils.widgets.text(\"FeedbackColumn\", \"input_file_name\", \"Feedback Column\")\n",
    "dbutils.widgets.text(\"DepthLevel\", \"\", \"Depth Level\")\n",
    "dbutils.widgets.text(\"SchemaFolderName\", \"schemachecks\", \"Schema Folder Name\")\n",
    "dbutils.widgets.text(\"XmlRootName\", \"ReserveAllocationResult_MarketDocument\", \"Xml Root Name\")"
   ]
  },
  {
   "cell_type": "markdown",
   "metadata": {
    "application/vnd.databricks.v1+cell": {
     "cellMetadata": {},
     "inputWidgets": {},
     "nuid": "de48c780-8921-4280-9c56-5ef9e7e1dc13",
     "showTitle": false,
     "tableResultSettingsMap": {},
     "title": ""
    }
   },
   "source": [
    "### pluto_pc__units_scadamw (xlsx)"
   ]
  },
  {
   "cell_type": "code",
   "execution_count": 0,
   "metadata": {
    "application/vnd.databricks.v1+cell": {
     "cellMetadata": {
      "byteLimit": 2048000,
      "rowLimit": 10000
     },
     "collapsed": true,
     "inputWidgets": {},
     "nuid": "87e2c97a-5c0c-4175-949d-b060a2e4d1eb",
     "showTitle": false,
     "tableResultSettingsMap": {},
     "title": ""
    }
   },
   "outputs": [
    {
     "data": {
      "text/html": [
       "<style scoped>\n",
       "  .ansiout {\n",
       "    display: block;\n",
       "    unicode-bidi: embed;\n",
       "    white-space: pre-wrap;\n",
       "    word-wrap: break-word;\n",
       "    word-break: break-all;\n",
       "    font-family: \"Menlo\", \"Monaco\", \"Consolas\", \"Ubuntu Mono\", \"Source Code Pro\", monospace;\n",
       "    font-size: 13px;\n",
       "    color: #555;\n",
       "    margin-left: 4px;\n",
       "    line-height: 19px;\n",
       "  }\n",
       "</style>\n",
       "<div class=\"ansiout\"></div>"
      ]
     },
     "metadata": {
      "application/vnd.databricks.v1+output": {
       "addedWidgets": {},
       "arguments": {},
       "data": "<div class=\"ansiout\"></div>",
       "datasetInfos": [],
       "metadata": {},
       "removedWidgets": [],
       "type": "html"
      }
     },
     "output_type": "display_data"
    }
   ],
   "source": [
    "# Clear all existing widgets to avoid duplication\n",
    "dbutils.widgets.removeAll()\n",
    "\n",
    "# Create a dropdown for FileType with predefined options\n",
    "dbutils.widgets.dropdown(\"FileType\", \"xlsx\", [\"json\", \"xlsx\", \"xml\"], \"File Type\")\n",
    "\n",
    "# Source and Destination Storage Accounts\n",
    "dbutils.widgets.text(\"SourceStorageAccount\", \"dplandingstoragetest\", \"Source Storage Account\")\n",
    "dbutils.widgets.text(\"DestinationStorageAccount\", \"dpuniformstoragetest\", \"Destination Storage Account\")\n",
    "\n",
    "# Source container and dataset identifier\n",
    "dbutils.widgets.text(\"SourceContainer\", \"landing\", \"Source Container\")\n",
    "dbutils.widgets.text(\"SourceDatasetidentifier\", \"pluto_pc__units_scadamw\", \"Source Datasetidentifier\")\n",
    "\n",
    "# Source file and key columns\n",
    "dbutils.widgets.text(\"SourceFileName\", \"UnitsSCADAMW.xlsx\", \"Source File Name\")\n",
    "dbutils.widgets.text(\"KeyColumns\", \"Unit_GSRN\", \"Key Columns\")\n",
    "\n",
    "# Feedback column and flattening option\n",
    "dbutils.widgets.text(\"SheetName\", \"Sheet\", \"Sheet Name\")"
   ]
  },
  {
   "cell_type": "markdown",
   "metadata": {
    "application/vnd.databricks.v1+cell": {
     "cellMetadata": {},
     "inputWidgets": {},
     "nuid": "c1bdc060-3842-46ec-bbb6-d57797962a13",
     "showTitle": false,
     "tableResultSettingsMap": {},
     "title": ""
    }
   },
   "source": [
    "## Setup"
   ]
  },
  {
   "cell_type": "markdown",
   "metadata": {
    "application/vnd.databricks.v1+cell": {
     "cellMetadata": {},
     "inputWidgets": {},
     "nuid": "f73dd64a-d76a-4785-b2ed-290384b83717",
     "showTitle": false,
     "tableResultSettingsMap": {},
     "title": ""
    }
   },
   "source": [
    "### Package Installation and Management"
   ]
  },
  {
   "cell_type": "code",
   "execution_count": 0,
   "metadata": {
    "application/vnd.databricks.v1+cell": {
     "cellMetadata": {
      "byteLimit": 2048000,
      "rowLimit": 10000
     },
     "inputWidgets": {},
     "nuid": "ed0dc232-6d86-4f31-917f-24f15a336f94",
     "showTitle": false,
     "tableResultSettingsMap": {},
     "title": ""
    }
   },
   "outputs": [],
   "source": [
    "# ==============================================================\n",
    "# Setup: Package Installation and Management\n",
    "# ==============================================================\n",
    "\n",
    "# Purpose:\n",
    "# Install and manage required Python packages for the Databricks project.\n",
    "# Ensure compatibility by specifying exact versions where applicable.\n",
    "\n",
    "# Uninstall any existing version of a custom utility package (optional)\n",
    "# Uncomment the line below if you need to remove an older version.\n",
    "# %pip uninstall databricks-custom-utils -y\n",
    "\n",
    "# Install necessary packages, including:\n",
    "# - Custom utilities from a GitHub repository (specific branch or version).\n",
    "# - Common libraries for parsing SQL, Excel, XML, and syntax highlighting.\n",
    "%pip install \\\n",
    "    git+https://github.com/Open-Dataplatform/utils-databricks.git@v0.7.1 \\\n",
    "    sqlparse \\\n",
    "    openpyxl \\\n",
    "    lxml \\\n",
    "    xmlschema \\\n",
    "    pygments\n",
    "\n",
    "\"\"\"\n",
    "Package Details:\n",
    "- `utils-databricks`: Custom utilities from Open-Dataplatform for Databricks.\n",
    "- `sqlparse`: A library for parsing and formatting SQL queries.\n",
    "- `openpyxl`: Used for reading and writing Excel files in XLSX format.\n",
    "- `lxml`: A library for processing XML and HTML.\n",
    "- `xmlschema`: Provides validation and conversion tools for XML schemas.\n",
    "- `pygments`: Syntax highlighter for code snippets.\n",
    "\"\"\""
   ]
  },
  {
   "cell_type": "markdown",
   "metadata": {
    "application/vnd.databricks.v1+cell": {
     "cellMetadata": {},
     "inputWidgets": {},
     "nuid": "50d45446-6aa8-43e6-9434-ccecdfd5f886",
     "showTitle": false,
     "tableResultSettingsMap": {},
     "title": ""
    }
   },
   "source": [
    "### Logger Class"
   ]
  },
  {
   "cell_type": "code",
   "execution_count": 0,
   "metadata": {
    "application/vnd.databricks.v1+cell": {
     "cellMetadata": {
      "byteLimit": 2048000,
      "rowLimit": 10000
     },
     "inputWidgets": {},
     "nuid": "1bcfd8ea-652a-4bb2-aff3-a395361902cd",
     "showTitle": false,
     "tableResultSettingsMap": {},
     "title": ""
    }
   },
   "outputs": [],
   "source": [
    "from custom_utils.logging.logger import Logger\n",
    "\n",
    "# Initialize the Logger\n",
    "logger = Logger(debug=True)"
   ]
  },
  {
   "cell_type": "markdown",
   "metadata": {
    "application/vnd.databricks.v1+cell": {
     "cellMetadata": {},
     "inputWidgets": {},
     "nuid": "2f7ec2c0-0cf9-47c9-8df1-5554b4ef3906",
     "showTitle": false,
     "tableResultSettingsMap": {},
     "title": ""
    }
   },
   "source": [
    "### Initialize notebook and get parameters"
   ]
  },
  {
   "cell_type": "code",
   "execution_count": 0,
   "metadata": {
    "application/vnd.databricks.v1+cell": {
     "cellMetadata": {
      "byteLimit": 2048000,
      "rowLimit": 10000
     },
     "inputWidgets": {},
     "nuid": "ac359a79-5f3a-41d1-9246-2e3bd65857aa",
     "showTitle": false,
     "tableResultSettingsMap": {},
     "title": ""
    }
   },
   "outputs": [],
   "source": [
    "from custom_utils.config.config import Config\n",
    "\n",
    "# Initialize the Config object\n",
    "config = Config.initialize(dbutils=dbutils, debug=False)\n",
    "\n",
    "# Unpack parameters into the current scope\n",
    "config.unpack(globals())"
   ]
  },
  {
   "cell_type": "markdown",
   "metadata": {
    "application/vnd.databricks.v1+cell": {
     "cellMetadata": {},
     "inputWidgets": {},
     "nuid": "8856fae7-c499-42fd-9181-6726ae03a0a7",
     "showTitle": false,
     "tableResultSettingsMap": {},
     "title": ""
    }
   },
   "source": [
    "### Verify paths and files"
   ]
  },
  {
   "cell_type": "code",
   "execution_count": 0,
   "metadata": {
    "application/vnd.databricks.v1+cell": {
     "cellMetadata": {
      "byteLimit": 2048000,
      "rowLimit": 10000
     },
     "inputWidgets": {},
     "nuid": "c61812ac-b995-401c-81bc-dfdbf224258b",
     "showTitle": false,
     "tableResultSettingsMap": {},
     "title": ""
    }
   },
   "outputs": [],
   "source": [
    "from custom_utils.validation.validation import Validator\n",
    "\n",
    "# Initialize Validator\n",
    "validator = Validator(config=config, debug=False)\n",
    "\n",
    "# Unpack parameters into the current scope\n",
    "validator.unpack(globals())\n",
    "\n",
    "# Check for exit flag\n",
    "validator.check_and_exit()"
   ]
  },
  {
   "cell_type": "markdown",
   "metadata": {
    "application/vnd.databricks.v1+cell": {
     "cellMetadata": {},
     "inputWidgets": {},
     "nuid": "686e6552-9626-47be-84c4-ba7dced29bee",
     "showTitle": false,
     "tableResultSettingsMap": {},
     "title": ""
    }
   },
   "source": [
    "### Exit the notebook if validate fails"
   ]
  },
  {
   "cell_type": "code",
   "execution_count": 0,
   "metadata": {
    "application/vnd.databricks.v1+cell": {
     "cellMetadata": {
      "byteLimit": 2048000,
      "rowLimit": 10000
     },
     "inputWidgets": {},
     "nuid": "eb713dad-62a8-40ed-85cd-153959401308",
     "showTitle": false,
     "tableResultSettingsMap": {},
     "title": ""
    }
   },
   "outputs": [],
   "source": [
    "# Exit the notebook explicitly in the final cell\n",
    "if Validator.exit_notebook:\n",
    "    print(Validator.exit_notebook_message)\n",
    "    dbutils.notebook.exit(f\"Notebook exited: {Validator.exit_notebook_message}\")"
   ]
  },
  {
   "cell_type": "markdown",
   "metadata": {
    "application/vnd.databricks.v1+cell": {
     "cellMetadata": {},
     "inputWidgets": {},
     "nuid": "4990a95e-9158-45bb-8869-1a3a7803a04b",
     "showTitle": false,
     "tableResultSettingsMap": {},
     "title": ""
    }
   },
   "source": [
    "## Processing Workflow"
   ]
  },
  {
   "cell_type": "markdown",
   "metadata": {
    "application/vnd.databricks.v1+cell": {
     "cellMetadata": {},
     "inputWidgets": {},
     "nuid": "6e5a8eaf-bca6-49ff-a399-c2bd59f7c649",
     "showTitle": false,
     "tableResultSettingsMap": {},
     "title": ""
    }
   },
   "source": [
    "### Flattening and Processing"
   ]
  },
  {
   "cell_type": "code",
   "execution_count": 0,
   "metadata": {
    "application/vnd.databricks.v1+cell": {
     "cellMetadata": {
      "byteLimit": 2048000,
      "rowLimit": 10000
     },
     "inputWidgets": {},
     "nuid": "bea85534-dbd5-4b3b-bdd2-a648f2a14cc2",
     "showTitle": false,
     "tableResultSettingsMap": {},
     "title": ""
    }
   },
   "outputs": [],
   "source": [
    "from custom_utils.transformations.dataframe import DataFrameTransformer\n",
    "\n",
    "# Initialize the DataFrameTransformer class with configuration\n",
    "transformer = DataFrameTransformer(config=config, debug=False)\n",
    "\n",
    "# Call the main process_and_flatten_data method\n",
    "try:\n",
    "    df_initial, df_flattened = transformer.process_and_flatten_data(depth_level=depth_level)\n",
    "\n",
    "    # Optionally: Rename the column \"Timestamp\" to \"EventTimestamp\" and cast it to timestamp\n",
    "    if config.source_datasetidentifier == \"triton__flow_plans\":\n",
    "        df_flattened = df_flattened \\\n",
    "            .withColumn(\"Timestamp\", col(\"Timestamp\").cast(\"timestamp\")) \\\n",
    "            .withColumnRenamed(\"Timestamp\", \"EventTimestamp\")\n",
    "\n",
    "    if config.source_datasetidentifier == \"cpx_so__nomination\":\n",
    "        df_flattened = df_flattened \\\n",
    "            .withColumn(\"dateCreated\", col(\"dateCreated\").cast(\"timestamp\")) \\\n",
    "            .withColumn(\"validityPeriod_begin\", col(\"validityPeriod_begin\").cast(\"timestamp\")) \\\n",
    "            .withColumn(\"validityPeriod_end\", col(\"validityPeriod_end\").cast(\"timestamp\")) \\\n",
    "            .withColumn(\"flows_periods_validityPeriod_begin\", col(\"flows_periods_validityPeriod_begin\").cast(\"timestamp\")) \\\n",
    "            .withColumn(\"flows_periods_validityPeriod_end\", col(\"flows_periods_validityPeriod_end\").cast(\"timestamp\"))\n",
    "\n",
    "    # Display the initial and flattened DataFrames for verification\n",
    "    print(\"\\nInitial DataFrame:\")\n",
    "    display(df_initial)\n",
    "\n",
    "    print(\"Flattened DataFrame:\")\n",
    "    display(df_flattened)\n",
    "\n",
    "    df_flattened.createOrReplaceTempView(\"tmp_data\")\n",
    "except Exception as e:\n",
    "    # Log any errors during processing\n",
    "    print(f\"Error during processing: {str(e)}\")"
   ]
  },
  {
   "cell_type": "markdown",
   "metadata": {
    "application/vnd.databricks.v1+cell": {
     "cellMetadata": {},
     "inputWidgets": {},
     "nuid": "cf6db93f-ff8b-4780-be52-4afb8fb7e42d",
     "showTitle": false,
     "tableResultSettingsMap": {},
     "title": ""
    }
   },
   "source": [
    "## Quality check "
   ]
  },
  {
   "cell_type": "markdown",
   "metadata": {
    "application/vnd.databricks.v1+cell": {
     "cellMetadata": {},
     "inputWidgets": {},
     "nuid": "5625e7a8-4a81-47c8-b505-18fd86d58634",
     "showTitle": false,
     "tableResultSettingsMap": {},
     "title": ""
    }
   },
   "source": [
    "### Abort if duplicates exists in new data"
   ]
  },
  {
   "cell_type": "code",
   "execution_count": 0,
   "metadata": {
    "application/vnd.databricks.v1+cell": {
     "cellMetadata": {
      "byteLimit": 2048000,
      "rowLimit": 10000
     },
     "inputWidgets": {},
     "nuid": "85cad015-decd-496a-9656-3523dec1e4d7",
     "showTitle": false,
     "tableResultSettingsMap": {},
     "title": ""
    }
   },
   "outputs": [],
   "source": [
    "from custom_utils.quality.quality import DataQualityManager\n",
    "\n",
    "# Initialize the DataQualityManager class\n",
    "quality_manager = DataQualityManager(logger=logger, debug=True)\n",
    "\n",
    "# Describe available quality checks\n",
    "quality_manager.describe_available_checks()\n",
    "\n",
    "# Executing Data Quality Checks on Flattened DataFrame\n",
    "cleaned_data_view = quality_manager.perform_data_quality_checks(\n",
    "    spark=spark,\n",
    "    df=df_flattened,\n",
    "    key_columns=key_columns, # (Union[str, List[str]]): Key columns for partitioning and duplicate checking.\n",
    "    order_by=feedback_column,  # (Optional[Union[str, List[str]]]): Columns to use for ordering within partitions.\n",
    "    feedback_column=feedback_column,  # (Optional[str]): Column to use for ordering duplicates; falls back to `key_columns` if None.\n",
    "    join_column=key_columns, # (Optional[str]): Column to use for referential integrity check\n",
    "    columns_to_exclude=[\"input_file_name\"], # (Optional[List[str]]): Columns to exclude from the final DataFrame.\n",
    "    use_python=False  # (Optional[bool]): If True, uses Python syntax for operations; defaults to SQL.\n",
    ")"
   ]
  },
  {
   "cell_type": "markdown",
   "metadata": {
    "application/vnd.databricks.v1+cell": {
     "cellMetadata": {},
     "inputWidgets": {},
     "nuid": "9fa7a1aa-d572-4a94-9361-f39a0d5c6497",
     "showTitle": false,
     "tableResultSettingsMap": {},
     "title": ""
    }
   },
   "source": [
    "## Write"
   ]
  },
  {
   "cell_type": "markdown",
   "metadata": {
    "application/vnd.databricks.v1+cell": {
     "cellMetadata": {},
     "inputWidgets": {},
     "nuid": "cf15307d-4943-411d-abdb-ef0c9e35cfae",
     "showTitle": false,
     "tableResultSettingsMap": {},
     "title": ""
    }
   },
   "source": [
    "### Unified Data Storage Management: Table Creation and Data Merging"
   ]
  },
  {
   "cell_type": "code",
   "execution_count": 0,
   "metadata": {
    "application/vnd.databricks.v1+cell": {
     "cellMetadata": {
      "byteLimit": 2048000,
      "rowLimit": 10000
     },
     "inputWidgets": {},
     "nuid": "61b9d197-9f80-47b5-b902-2c1ae198158e",
     "showTitle": false,
     "tableResultSettingsMap": {},
     "title": ""
    }
   },
   "outputs": [],
   "source": [
    "from custom_utils.catalog.catalog_utils import DataStorageManager\n",
    "\n",
    "# Initialize the DataStorageManager class\n",
    "storage_manager = DataStorageManager(logger=logger, debug=True)\n",
    "\n",
    "storage_manager.manage_data_operation(\n",
    "    spark=spark,\n",
    "    dbutils=dbutils,\n",
    "    cleaned_data_view=cleaned_data_view,  # The view you want to merge\n",
    "    key_columns=key_columns,  # Key columns to use for merging\n",
    "    destination_folder_path=destination_data_folder_path,  # Destination folder path\n",
    "    destination_environment=destination_environment,  # The database name\n",
    "    source_datasetidentifier=source_datasetidentifier,  # The table name\n",
    "    use_python=False  # Set to True to use Python DataFrame operations; False for SQL\n",
    ")"
   ]
  },
  {
   "cell_type": "markdown",
   "metadata": {
    "application/vnd.databricks.v1+cell": {
     "cellMetadata": {},
     "inputWidgets": {},
     "nuid": "4e98b8f1-11c1-49e4-b42c-0338d7029cf0",
     "showTitle": false,
     "tableResultSettingsMap": {},
     "title": ""
    }
   },
   "source": [
    "## Finishing"
   ]
  },
  {
   "cell_type": "markdown",
   "metadata": {
    "application/vnd.databricks.v1+cell": {
     "cellMetadata": {},
     "inputWidgets": {},
     "nuid": "2d8185a6-b968-4952-90ba-973b28952ebf",
     "showTitle": false,
     "tableResultSettingsMap": {},
     "title": ""
    }
   },
   "source": [
    "### Return period (from_datetime, to_datetime) covered by data read"
   ]
  },
  {
   "cell_type": "code",
   "execution_count": 0,
   "metadata": {
    "application/vnd.databricks.v1+cell": {
     "cellMetadata": {
      "byteLimit": 2048000,
      "rowLimit": 10000
     },
     "inputWidgets": {},
     "nuid": "27f8acc3-0109-4f8b-bfdf-a8036b1eb984",
     "showTitle": false,
     "tableResultSettingsMap": {},
     "title": ""
    }
   },
   "outputs": [],
   "source": [
    "# Run the main function to generate feedback timestamps\n",
    "notebook_output = storage_manager.generate_feedback_timestamps(\n",
    "    spark=spark, \n",
    "    view_name=cleaned_data_view, \n",
    "    feedback_column=feedback_column,\n",
    "    key_columns=key_columns\n",
    ")"
   ]
  },
  {
   "cell_type": "markdown",
   "metadata": {
    "application/vnd.databricks.v1+cell": {
     "cellMetadata": {},
     "inputWidgets": {},
     "nuid": "d6cb96ea-0292-4a65-8faf-82022e6f15de",
     "showTitle": false,
     "tableResultSettingsMap": {},
     "title": ""
    }
   },
   "source": [
    "## Exit the notebook"
   ]
  },
  {
   "cell_type": "code",
   "execution_count": 0,
   "metadata": {
    "application/vnd.databricks.v1+cell": {
     "cellMetadata": {
      "byteLimit": 2048000,
      "rowLimit": 10000
     },
     "inputWidgets": {},
     "nuid": "9af7d77f-577d-4bcc-b0c6-83e1839faddb",
     "showTitle": false,
     "tableResultSettingsMap": {},
     "title": ""
    }
   },
   "outputs": [],
   "source": [
    "# Use dbutils to exit the notebook\n",
    "dbutils.notebook.exit(notebook_output)"
   ]
  }
 ],
 "metadata": {
  "application/vnd.databricks.v1+notebook": {
   "computePreferences": null,
   "dashboards": [],
   "environmentMetadata": null,
   "language": "python",
   "notebookMetadata": {
    "mostRecentlyExecutedCommandWithImplicitDF": {
     "commandId": 1480669739374173,
     "dataframes": [
      "_sqldf"
     ]
    },
    "pythonIndentUnit": 4
   },
   "notebookName": "s-data_group__entityname",
   "widgets": {
    "DepthLevel": {
     "currentValue": "1",
     "nuid": "90eac04f-51c3-4819-beec-8ecc20810e00",
     "typedWidgetInfo": {
      "autoCreated": false,
      "defaultValue": "1",
      "label": "Depth Level",
      "name": "DepthLevel",
      "options": {
       "validationRegex": null,
       "widgetDisplayType": "Text"
      },
      "parameterDataType": "String"
     },
     "widgetInfo": {
      "defaultValue": "1",
      "label": "Depth Level",
      "name": "DepthLevel",
      "options": {
       "autoCreated": null,
       "validationRegex": null,
       "widgetType": "text"
      },
      "widgetType": "text"
     }
    },
    "DestinationStorageAccount": {
     "currentValue": "dpuniformstoragetest",
     "nuid": "c4bf7b33-7796-4dae-bb9f-0654dee0ea3b",
     "typedWidgetInfo": {
      "autoCreated": false,
      "defaultValue": "dpuniformstoragetest",
      "label": "Destination Storage Account",
      "name": "DestinationStorageAccount",
      "options": {
       "validationRegex": null,
       "widgetDisplayType": "Text"
      },
      "parameterDataType": "String"
     },
     "widgetInfo": {
      "defaultValue": "dpuniformstoragetest",
      "label": "Destination Storage Account",
      "name": "DestinationStorageAccount",
      "options": {
       "autoCreated": null,
       "validationRegex": null,
       "widgetType": "text"
      },
      "widgetType": "text"
     }
    },
    "FeedbackColumn": {
     "currentValue": "EventTimestamp",
     "nuid": "f4fd7ed4-98a9-47ec-986a-2732e124cf66",
     "typedWidgetInfo": {
      "autoCreated": false,
      "defaultValue": "EventTimestamp",
      "label": "Feedback Column",
      "name": "FeedbackColumn",
      "options": {
       "validationRegex": null,
       "widgetDisplayType": "Text"
      },
      "parameterDataType": "String"
     },
     "widgetInfo": {
      "defaultValue": "EventTimestamp",
      "label": "Feedback Column",
      "name": "FeedbackColumn",
      "options": {
       "autoCreated": null,
       "validationRegex": null,
       "widgetType": "text"
      },
      "widgetType": "text"
     }
    },
    "FileType": {
     "currentValue": "json",
     "nuid": "c2d1d69c-0d9d-4074-b41b-eb2276be0b58",
     "typedWidgetInfo": {
      "autoCreated": false,
      "defaultValue": "json",
      "label": "File Type",
      "name": "FileType",
      "options": {
       "choices": [
        "json",
        "xlsx",
        "xml"
       ],
       "fixedDomain": true,
       "multiselect": false,
       "widgetDisplayType": "Dropdown"
      },
      "parameterDataType": "String"
     },
     "widgetInfo": {
      "defaultValue": "json",
      "label": "File Type",
      "name": "FileType",
      "options": {
       "autoCreated": null,
       "choices": [
        "json",
        "xlsx",
        "xml"
       ],
       "widgetType": "dropdown"
      },
      "widgetType": "dropdown"
     }
    },
    "KeyColumns": {
     "currentValue": "Guid",
     "nuid": "07e338de-5e86-4222-83c4-e56fa89b4d64",
     "typedWidgetInfo": {
      "autoCreated": false,
      "defaultValue": "Guid",
      "label": "Key Columns",
      "name": "KeyColumns",
      "options": {
       "validationRegex": null,
       "widgetDisplayType": "Text"
      },
      "parameterDataType": "String"
     },
     "widgetInfo": {
      "defaultValue": "Guid",
      "label": "Key Columns",
      "name": "KeyColumns",
      "options": {
       "autoCreated": null,
       "validationRegex": null,
       "widgetType": "text"
      },
      "widgetType": "text"
     }
    },
    "SchemaFolderName": {
     "currentValue": "schemachecks",
     "nuid": "4704beb0-e55c-47f1-9b1a-4b52c7e2e0b9",
     "typedWidgetInfo": {
      "autoCreated": false,
      "defaultValue": "schemachecks",
      "label": "Schema Folder Name",
      "name": "SchemaFolderName",
      "options": {
       "validationRegex": null,
       "widgetDisplayType": "Text"
      },
      "parameterDataType": "String"
     },
     "widgetInfo": {
      "defaultValue": "schemachecks",
      "label": "Schema Folder Name",
      "name": "SchemaFolderName",
      "options": {
       "autoCreated": null,
       "validationRegex": null,
       "widgetType": "text"
      },
      "widgetType": "text"
     }
    },
    "SourceContainer": {
     "currentValue": "landing",
     "nuid": "aca0baa8-7823-4f9e-a792-a6c65560ab2d",
     "typedWidgetInfo": {
      "autoCreated": false,
      "defaultValue": "landing",
      "label": "Source Container",
      "name": "SourceContainer",
      "options": {
       "validationRegex": null,
       "widgetDisplayType": "Text"
      },
      "parameterDataType": "String"
     },
     "widgetInfo": {
      "defaultValue": "landing",
      "label": "Source Container",
      "name": "SourceContainer",
      "options": {
       "autoCreated": null,
       "validationRegex": null,
       "widgetType": "text"
      },
      "widgetType": "text"
     }
    },
    "SourceDatasetidentifier": {
     "currentValue": "triton__flow_plans",
     "nuid": "d2c2aedf-b7dc-4e87-ac46-cf08ad13a7a3",
     "typedWidgetInfo": {
      "autoCreated": false,
      "defaultValue": "triton__flow_plans",
      "label": "Source Datasetidentifier",
      "name": "SourceDatasetidentifier",
      "options": {
       "validationRegex": null,
       "widgetDisplayType": "Text"
      },
      "parameterDataType": "String"
     },
     "widgetInfo": {
      "defaultValue": "triton__flow_plans",
      "label": "Source Datasetidentifier",
      "name": "SourceDatasetidentifier",
      "options": {
       "autoCreated": null,
       "validationRegex": null,
       "widgetType": "text"
      },
      "widgetType": "text"
     }
    },
    "SourceFileName": {
     "currentValue": "triton__flow_plans-202408*",
     "nuid": "f2eea4f3-74a8-4ec9-b6bf-e65fc21180e0",
     "typedWidgetInfo": {
      "autoCreated": false,
      "defaultValue": "triton__flow_plans-202408*",
      "label": "Source File Name",
      "name": "SourceFileName",
      "options": {
       "validationRegex": null,
       "widgetDisplayType": "Text"
      },
      "parameterDataType": "String"
     },
     "widgetInfo": {
      "defaultValue": "triton__flow_plans-202408*",
      "label": "Source File Name",
      "name": "SourceFileName",
      "options": {
       "autoCreated": null,
       "validationRegex": null,
       "widgetType": "text"
      },
      "widgetType": "text"
     }
    },
    "SourceStorageAccount": {
     "currentValue": "dplandingstoragetest",
     "nuid": "95dd7d07-130a-40c9-9d6c-0867e6524aac",
     "typedWidgetInfo": {
      "autoCreated": false,
      "defaultValue": "dplandingstoragetest",
      "label": "Source Storage Account",
      "name": "SourceStorageAccount",
      "options": {
       "validationRegex": null,
       "widgetDisplayType": "Text"
      },
      "parameterDataType": "String"
     },
     "widgetInfo": {
      "defaultValue": "dplandingstoragetest",
      "label": "Source Storage Account",
      "name": "SourceStorageAccount",
      "options": {
       "autoCreated": null,
       "validationRegex": null,
       "widgetType": "text"
      },
      "widgetType": "text"
     }
    }
   }
  },
  "language_info": {
   "name": "python"
  }
 },
 "nbformat": 4,
 "nbformat_minor": 0
}