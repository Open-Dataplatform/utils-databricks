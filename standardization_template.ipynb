{
    "metadata": {
        "kernelspec": {
            "name": "SQL",
            "display_name": "SQL",
            "language": "sql"
        },
        "language_info": {
            "name": "sql",
            "version": ""
        },
        "application/vnd.databricks.v1+notebook": {
            "dashboards": [],
            "environmentMetadata": null,
            "language": "python",
            "notebookMetadata": {
                "mostRecentlyExecutedCommandWithImplicitDF": {
                    "commandId": 3982113827753665,
                    "dataframes": [
                        "_sqldf"
                    ]
                },
                "pythonIndentUnit": 4
            },
            "notebookName": "s-data_group__entityname",
            "widgets": {
                "DestinationStorageAccount": {
                    "currentValue": "dpuniformstoragetest",
                    "nuid": "3689540d-d96c-46f7-83dd-4be8c54c7392",
                    "typedWidgetInfo": {
                        "autoCreated": false,
                        "defaultValue": "dpuniformstoragetest",
                        "label": "Destination Storage Account",
                        "name": "DestinationStorageAccount",
                        "options": {
                            "widgetDisplayType": "Text",
                            "validationRegex": null
                        },
                        "parameterDataType": "String"
                    },
                    "widgetInfo": {
                        "widgetType": "text",
                        "defaultValue": "dpuniformstoragetest",
                        "label": "Destination Storage Account",
                        "name": "DestinationStorageAccount",
                        "options": {
                            "widgetType": "text",
                            "autoCreated": null,
                            "validationRegex": null
                        }
                    }
                },
                "KeyColumns": {
                    "currentValue": "Unit_GSRN",
                    "nuid": "4be4f98a-4bcb-4106-85b0-2e6330a7a225",
                    "typedWidgetInfo": {
                        "autoCreated": false,
                        "defaultValue": "Unit_GSRN",
                        "label": "Key Columns",
                        "name": "KeyColumns",
                        "options": {
                            "widgetDisplayType": "Text",
                            "validationRegex": null
                        },
                        "parameterDataType": "String"
                    },
                    "widgetInfo": {
                        "widgetType": "text",
                        "defaultValue": "Unit_GSRN",
                        "label": "Key Columns",
                        "name": "KeyColumns",
                        "options": {
                            "widgetType": "text",
                            "autoCreated": null,
                            "validationRegex": null
                        }
                    }
                },
                "SheetName": {
                    "currentValue": "Sheet",
                    "nuid": "dc30c2eb-7899-40f5-8900-f8f4fa4905b0",
                    "typedWidgetInfo": {
                        "autoCreated": false,
                        "defaultValue": "Sheet",
                        "label": "Sheet Name",
                        "name": "SheetName",
                        "options": {
                            "widgetDisplayType": "Text",
                            "validationRegex": null
                        },
                        "parameterDataType": "String"
                    },
                    "widgetInfo": {
                        "widgetType": "text",
                        "defaultValue": "Sheet",
                        "label": "Sheet Name",
                        "name": "SheetName",
                        "options": {
                            "widgetType": "text",
                            "autoCreated": null,
                            "validationRegex": null
                        }
                    }
                },
                "SourceContainer": {
                    "currentValue": "landing",
                    "nuid": "c896bb9e-1c71-466f-a892-34ccf40647ea",
                    "typedWidgetInfo": {
                        "autoCreated": false,
                        "defaultValue": "landing",
                        "label": "Source Container",
                        "name": "SourceContainer",
                        "options": {
                            "widgetDisplayType": "Text",
                            "validationRegex": null
                        },
                        "parameterDataType": "String"
                    },
                    "widgetInfo": {
                        "widgetType": "text",
                        "defaultValue": "landing",
                        "label": "Source Container",
                        "name": "SourceContainer",
                        "options": {
                            "widgetType": "text",
                            "autoCreated": null,
                            "validationRegex": null
                        }
                    }
                },
                "SourceDatasetidentifier": {
                    "currentValue": "pluto_pc__units_scadamw",
                    "nuid": "e5569fb7-5719-40d3-a127-fe8c4dc4c265",
                    "typedWidgetInfo": {
                        "autoCreated": false,
                        "defaultValue": "pluto_pc__units_scadamw",
                        "label": "Source Datasetidentifier",
                        "name": "SourceDatasetidentifier",
                        "options": {
                            "widgetDisplayType": "Text",
                            "validationRegex": null
                        },
                        "parameterDataType": "String"
                    },
                    "widgetInfo": {
                        "widgetType": "text",
                        "defaultValue": "pluto_pc__units_scadamw",
                        "label": "Source Datasetidentifier",
                        "name": "SourceDatasetidentifier",
                        "options": {
                            "widgetType": "text",
                            "autoCreated": null,
                            "validationRegex": null
                        }
                    }
                },
                "SourceFileName": {
                    "currentValue": "*",
                    "nuid": "e65081d3-1937-4b6b-ba26-ec539416ab7a",
                    "typedWidgetInfo": {
                        "autoCreated": false,
                        "defaultValue": "*",
                        "label": "Source File Name",
                        "name": "SourceFileName",
                        "options": {
                            "widgetDisplayType": "Text",
                            "validationRegex": null
                        },
                        "parameterDataType": "String"
                    },
                    "widgetInfo": {
                        "widgetType": "text",
                        "defaultValue": "*",
                        "label": "Source File Name",
                        "name": "SourceFileName",
                        "options": {
                            "widgetType": "text",
                            "autoCreated": null,
                            "validationRegex": null
                        }
                    }
                },
                "SourceStorageAccount": {
                    "currentValue": "dplandingstoragetest",
                    "nuid": "c1fa6c92-0ce4-4f04-8d32-4dd1cb352a56",
                    "typedWidgetInfo": {
                        "autoCreated": false,
                        "defaultValue": "dplandingstoragetest",
                        "label": "Source Storage Account",
                        "name": "SourceStorageAccount",
                        "options": {
                            "widgetDisplayType": "Text",
                            "validationRegex": null
                        },
                        "parameterDataType": "String"
                    },
                    "widgetInfo": {
                        "widgetType": "text",
                        "defaultValue": "dplandingstoragetest",
                        "label": "Source Storage Account",
                        "name": "SourceStorageAccount",
                        "options": {
                            "widgetType": "text",
                            "autoCreated": null,
                            "validationRegex": null
                        }
                    }
                }
            }
        },
        "extensions": {
            "azuredatastudio": {
                "version": 1,
                "views": []
            }
        }
    },
    "nbformat_minor": 2,
    "nbformat": 4,
    "cells": [
        {
            "cell_type": "markdown",
            "source": [
                "\n",
                "# JSON Standardization and Flattening\n",
                "This notebook is responsible for standardizing and flattening JSON files. It reads the raw JSON data from the landing zone, applies a schema for validation, flattens nested structures, and then writes the transformed data as Delta Parquet files.\n",
                "\n",
                "Key Features:\n",
                "- Reads JSON files from the landing zone.\n",
                "- Applies a predefined schema for data validation (ensure the schema file is available at landing/schemachecks/[datasetidentifier]/[datasetidentifier]_schema.json).\n",
                "- Flattens nested JSON structures for easier querying and analysis.\n",
                "- Saves the processed data as Delta Parquet files for efficient storage and querying."
            ],
            "metadata": {
                "application/vnd.databricks.v1+cell": {
                    "cellMetadata": {},
                    "inputWidgets": {},
                    "nuid": "e602c5c8-8a15-424b-9b7f-e52cf55125d3",
                    "showTitle": false,
                    "title": ""
                },
                "extensions": {
                    "azuredatastudio": {
                        "views": []
                    }
                },
                "azdata_cell_guid": "c1be54fc-eb30-440f-bfea-d1cd2715457f"
            }
        },
        {
            "cell_type": "markdown",
            "source": [
                "## Widget Initialization and Configuration"
            ],
            "metadata": {
                "application/vnd.databricks.v1+cell": {
                    "cellMetadata": {},
                    "inputWidgets": {},
                    "nuid": "a90d57bb-152f-4f11-af00-24f1cb0c63e7",
                    "showTitle": false,
                    "title": ""
                },
                "extensions": {
                    "azuredatastudio": {
                        "views": []
                    }
                },
                "azdata_cell_guid": "be34d542-f25d-4f4e-bcfc-730cbdb157ce"
            }
        },
        {
            "cell_type": "markdown",
            "source": [
                "### triton__flow_plans"
            ],
            "metadata": {
                "application/vnd.databricks.v1+cell": {
                    "cellMetadata": {},
                    "inputWidgets": {},
                    "nuid": "699f8e79-1d89-4339-bc4d-ee86590f6b01",
                    "showTitle": false,
                    "title": ""
                },
                "extensions": {
                    "azuredatastudio": {
                        "views": []
                    }
                },
                "azdata_cell_guid": "4b55665e-0f9b-41ef-a3ce-0572dfa7a6cb"
            }
        },
        {
            "cell_type": "code",
            "source": [
                "dbutils.widgets.removeAll()\n",
                "\n",
                "# Source and Destination Storage Accounts\n",
                "dbutils.widgets.text(\"SourceStorageAccount\", \"dplandingstoragetest\", \"Source Storage Account\")\n",
                "dbutils.widgets.text(\"DestinationStorageAccount\", \"dpuniformstoragetest\", \"Destination Storage Account\")\n",
                "\n",
                "# Source container and dataset identifier\n",
                "dbutils.widgets.text(\"SourceContainer\", \"landing\", \"Source Container\")\n",
                "dbutils.widgets.text(\"SourceDatasetidentifier\", \"triton__flow_plans\", \"Source Datasetidentifier\")\n",
                "\n",
                "# Source file and key columns\n",
                "dbutils.widgets.text(\"SourceFileName\", \"*\", \"Source File Name\")\n",
                "dbutils.widgets.text(\"KeyColumns\", \"Guid\", \"Key Columns\")\n",
                "\n",
                "# Feedback column and flattening option\n",
                "dbutils.widgets.text(\"FeedbackColumn\", \"EventTimestamp\", \"Feedback Column\")\n",
                "dbutils.widgets.text(\"DepthLevel\", \"\", \"Depth Level\")\n",
                "dbutils.widgets.text(\"SchemaFolderName\", \"schemachecks\", \"Schema Folder Name\")"
            ],
            "metadata": {
                "application/vnd.databricks.v1+cell": {
                    "cellMetadata": {},
                    "inputWidgets": {},
                    "nuid": "3f5ec574-eca6-40c0-a6e7-a68670b5ee12",
                    "showTitle": false,
                    "title": ""
                },
                "extensions": {
                    "azuredatastudio": {
                        "views": []
                    }
                },
                "azdata_cell_guid": "c06b2b10-cf5a-4daa-b810-934f4f523b48"
            },
            "outputs": [],
            "execution_count": null
        },
        {
            "cell_type": "markdown",
            "source": [
                "## Setup"
            ],
            "metadata": {
                "application/vnd.databricks.v1+cell": {
                    "cellMetadata": {},
                    "inputWidgets": {},
                    "nuid": "5ff90a25-0143-4fe6-aedf-639ea0b44c32",
                    "showTitle": false,
                    "title": ""
                },
                "extensions": {
                    "azuredatastudio": {
                        "views": []
                    }
                },
                "azdata_cell_guid": "ace57944-7954-4062-b87e-afac189be521"
            }
        },
        {
            "cell_type": "markdown",
            "source": [
                "### Package Installation and Management"
            ],
            "metadata": {
                "application/vnd.databricks.v1+cell": {
                    "cellMetadata": {},
                    "inputWidgets": {},
                    "nuid": "34a26ace-6bd2-437e-affe-78245e27e12f",
                    "showTitle": false,
                    "title": ""
                },
                "extensions": {
                    "azuredatastudio": {
                        "views": []
                    }
                },
                "azdata_cell_guid": "45adbfe1-1b1e-4d9a-912c-83099d4ae4c3"
            }
        },
        {
            "cell_type": "code",
            "source": [
                "# Install necessary packages\n",
                "# Ensure to use the specific versions needed.\n",
                "\n",
                "# Uninstall the existing package version (uncomment if a previous version is present).\n",
                "# %pip uninstall databricks-custom-utils -y\n",
                "\n",
                "# Install the package from the GitHub repository's specified branch.\n",
                "%pip install git+https://github.com/xazms/utils-databricks.git@v0.6.7 sqlparse openpyxl"
            ],
            "metadata": {
                "application/vnd.databricks.v1+cell": {
                    "cellMetadata": {
                        "byteLimit": 2048000,
                        "rowLimit": 10000
                    },
                    "inputWidgets": {},
                    "nuid": "ef6658fb-762e-4f66-8957-cb493a2a96a0",
                    "showTitle": false,
                    "title": ""
                },
                "extensions": {
                    "azuredatastudio": {
                        "views": []
                    }
                },
                "azdata_cell_guid": "aa03adda-f138-49f2-a2bc-25bde425ec6e"
            },
            "outputs": [],
            "execution_count": null
        },
        {
            "cell_type": "markdown",
            "source": [
                "### Initialize notebook and get parameters"
            ],
            "metadata": {
                "application/vnd.databricks.v1+cell": {
                    "cellMetadata": {},
                    "inputWidgets": {},
                    "nuid": "de92c36b-420c-44c8-9b28-805f8f9fecd8",
                    "showTitle": false,
                    "title": ""
                },
                "extensions": {
                    "azuredatastudio": {
                        "views": []
                    }
                },
                "azdata_cell_guid": "84ab922e-1c4a-4ac3-812c-5319a64b4d1c"
            }
        },
        {
            "cell_type": "code",
            "source": [
                "from custom_utils.logging.logger import Logger\n",
                "from custom_utils.config.config import Config\n",
                "\n",
                "# Instantiate the logger class\n",
                "logger = Logger(debug=True)\n",
                "\n",
                "# Initialize the Config object\n",
                "config = Config.initialize(dbutils=dbutils, logger=logger, debug=True)\n",
                "\n",
                "# Unpack parameters into the current scope\n",
                "config.unpack(globals())"
            ],
            "metadata": {
                "application/vnd.databricks.v1+cell": {
                    "cellMetadata": {
                        "byteLimit": 2048000,
                        "rowLimit": 10000
                    },
                    "inputWidgets": {},
                    "nuid": "20279d90-eed3-46a5-ad72-74c0c4874014",
                    "showTitle": false,
                    "title": ""
                },
                "extensions": {
                    "azuredatastudio": {
                        "views": []
                    }
                },
                "azdata_cell_guid": "aba0723c-2353-4b37-bb92-0ce58769434d"
            },
            "outputs": [],
            "execution_count": null
        },
        {
            "cell_type": "markdown",
            "source": [
                "### Verify paths and files"
            ],
            "metadata": {
                "application/vnd.databricks.v1+cell": {
                    "cellMetadata": {},
                    "inputWidgets": {},
                    "nuid": "6c1c19a6-aadc-49ad-9243-3cbca14c9a62",
                    "showTitle": false,
                    "title": ""
                },
                "extensions": {
                    "azuredatastudio": {
                        "views": []
                    }
                },
                "azdata_cell_guid": "52904819-339e-42dc-be73-36747b0c5f61"
            }
        },
        {
            "cell_type": "code",
            "source": [
                "from custom_utils.validation.validation import Validator\n",
                "\n",
                "# Initialize the Validator class with the provided configuration and logger\n",
                "validator = Validator(config, logger=logger, debug=True)\n",
                "\n",
                "# Perform validation of schema and source paths, returning validated file folder paths and file type.\n",
                "schema_file_path, data_file_path, matched_data_files, data_file_type = validator.verify_paths_and_files()\n"
            ],
            "metadata": {
                "application/vnd.databricks.v1+cell": {
                    "cellMetadata": {
                        "byteLimit": 2048000,
                        "rowLimit": 10000
                    },
                    "inputWidgets": {},
                    "nuid": "dcc54939-aef2-4920-92ef-e00b2ad79c82",
                    "showTitle": false,
                    "title": ""
                },
                "extensions": {
                    "azuredatastudio": {
                        "views": []
                    }
                },
                "azdata_cell_guid": "ae67be92-bf62-4755-be05-30d467aaee56"
            },
            "outputs": [],
            "execution_count": null
        },
        {
            "cell_type": "markdown",
            "source": [
                "## Processing Workflow"
            ],
            "metadata": {
                "application/vnd.databricks.v1+cell": {
                    "cellMetadata": {},
                    "inputWidgets": {},
                    "nuid": "9c77336f-155b-4e51-acca-c6bbfdb4d6be",
                    "showTitle": false,
                    "title": ""
                },
                "extensions": {
                    "azuredatastudio": {
                        "views": []
                    }
                },
                "azdata_cell_guid": "2b693b81-a547-49d1-bef7-49eb92450d2f"
            }
        },
        {
            "cell_type": "markdown",
            "source": [
                "### Flattening and Processing Nested JSON Data"
            ],
            "metadata": {
                "application/vnd.databricks.v1+cell": {
                    "cellMetadata": {},
                    "inputWidgets": {},
                    "nuid": "dc185e7b-2077-425b-ae45-9da1183f5cb8",
                    "showTitle": false,
                    "title": ""
                },
                "extensions": {
                    "azuredatastudio": {
                        "views": []
                    }
                },
                "azdata_cell_guid": "7405a202-fbe0-45d1-b4b8-e87df4128a0b"
            }
        },
        {
            "cell_type": "code",
            "source": [
                "from pyspark.sql.functions import col\n",
                "from custom_utils.transformations.dataframe import DataFrameTransformer\n",
                "\n",
                "# Initialize the DataFrameTransformer class\n",
                "transformer = DataFrameTransformer(config=config, logger=logger, dbutils=dbutils, debug=True)\n",
                "\n",
                "# Call the process_and_flatten_data method using the transformer instance\n",
                "df_initial, df_flattened = transformer.process_and_flatten_data(\n",
                "    schema_file_path=schema_file_path,\n",
                "    data_file_path=data_file_path,\n",
                "    file_type=data_file_type,\n",
                "    depth_level=depth_level,\n",
                "    sheet_name=sheet_name\n",
                ")\n",
                "\n",
                "# Display the flattened DataFrame to verify the result (useful in Databricks or Jupyter)\n",
                "display(df_flattened)"
            ],
            "metadata": {
                "application/vnd.databricks.v1+cell": {
                    "cellMetadata": {
                        "byteLimit": 2048000,
                        "rowLimit": 10000
                    },
                    "inputWidgets": {},
                    "nuid": "d2c11ef2-a3dc-43ee-b6c9-74a53ca76c83",
                    "showTitle": false,
                    "title": ""
                },
                "extensions": {
                    "azuredatastudio": {
                        "views": []
                    }
                },
                "azdata_cell_guid": "7f04d107-49f0-40c5-baf7-34ff16cae124"
            },
            "outputs": [],
            "execution_count": null
        },
        {
            "cell_type": "markdown",
            "source": [
                "## Quality check "
            ],
            "metadata": {
                "application/vnd.databricks.v1+cell": {
                    "cellMetadata": {},
                    "inputWidgets": {},
                    "nuid": "c7b9da00-6171-4fff-8190-94829f15f7d1",
                    "showTitle": false,
                    "title": ""
                },
                "extensions": {
                    "azuredatastudio": {
                        "views": []
                    }
                },
                "azdata_cell_guid": "909390aa-606b-43dd-afd9-87999c4735ba"
            }
        },
        {
            "cell_type": "markdown",
            "source": [
                "### Abort if duplicates exists in new data"
            ],
            "metadata": {
                "application/vnd.databricks.v1+cell": {
                    "cellMetadata": {},
                    "inputWidgets": {},
                    "nuid": "f752b46c-45ad-4cf5-a265-4e798f5eb077",
                    "showTitle": false,
                    "title": ""
                },
                "extensions": {
                    "azuredatastudio": {
                        "views": []
                    }
                },
                "azdata_cell_guid": "3f27a325-958d-4c68-9b67-e9d53e2d0817"
            }
        },
        {
            "cell_type": "code",
            "source": [
                "from custom_utils.quality.quality import DataQualityManager\n",
                "\n",
                "# Initialize the DataQualityManager class\n",
                "quality_manager = DataQualityManager(logger=logger, debug=True)\n",
                "\n",
                "# Describe available quality checks\n",
                "quality_manager.describe_available_checks()\n",
                "\n",
                "# Executing Data Quality Checks on Flattened DataFrame\n",
                "cleaned_data_view = quality_manager.perform_data_quality_checks(\n",
                "    spark=spark,\n",
                "    df=df_flattened,\n",
                "    key_columns=key_columns,\n",
                "    order_by=key_columns,\n",
                "    join_column=key_columns,\n",
                "    columns_to_exclude=[\"input_file_name\"],\n",
                "    use_python=False # Set to True to use Python DataFrame operations; False for SQL\n",
                ")"
            ],
            "metadata": {
                "application/vnd.databricks.v1+cell": {
                    "cellMetadata": {
                        "byteLimit": 2048000,
                        "rowLimit": 10000
                    },
                    "inputWidgets": {},
                    "nuid": "ab9e7d3b-80a0-4c63-8ffe-08ba16bf995e",
                    "showTitle": false,
                    "title": ""
                },
                "extensions": {
                    "azuredatastudio": {
                        "views": []
                    }
                },
                "azdata_cell_guid": "44328901-17d2-4518-ac02-e3e1a1b7d103"
            },
            "outputs": [],
            "execution_count": null
        },
        {
            "cell_type": "markdown",
            "source": [
                "## Write"
            ],
            "metadata": {
                "application/vnd.databricks.v1+cell": {
                    "cellMetadata": {},
                    "inputWidgets": {},
                    "nuid": "e9e9aaee-51da-4459-90ec-0ef3218ca3a1",
                    "showTitle": false,
                    "title": ""
                },
                "extensions": {
                    "azuredatastudio": {
                        "views": []
                    }
                },
                "azdata_cell_guid": "a2f32af6-9923-4cd5-b6f9-d18f3fe4a649"
            }
        },
        {
            "cell_type": "markdown",
            "source": [
                "### Unified Data Storage Management: Table Creation and Data Merging"
            ],
            "metadata": {
                "application/vnd.databricks.v1+cell": {
                    "cellMetadata": {},
                    "inputWidgets": {},
                    "nuid": "e172d9ba-561a-4b70-bfa6-38dbc40e37b0",
                    "showTitle": false,
                    "title": ""
                },
                "extensions": {
                    "azuredatastudio": {
                        "views": []
                    }
                },
                "azdata_cell_guid": "7abd6618-0fda-468c-abc4-62f076e8ee2d"
            }
        },
        {
            "cell_type": "code",
            "source": [
                "from custom_utils.catalog.catalog_utils import DataStorageManager\n",
                "\n",
                "# Initialize the DataStorageManager class\n",
                "storage_manager = DataStorageManager(logger=logger, debug=True)\n",
                "\n",
                "storage_manager.manage_data_operation(\n",
                "    spark=spark,\n",
                "    dbutils=dbutils,\n",
                "    cleaned_data_view=cleaned_data_view,  # The view you want to merge\n",
                "    key_columns=key_columns,  # Key columns to use for merging\n",
                "    destination_folder_path=destination_folder_path,  # Destination folder path\n",
                "    destination_environment=destination_environment,  # The database name\n",
                "    source_datasetidentifier=source_datasetidentifier,  # The table name\n",
                "    use_python=False  # Set to True to use Python DataFrame operations; False for SQL\n",
                ")"
            ],
            "metadata": {
                "application/vnd.databricks.v1+cell": {
                    "cellMetadata": {
                        "byteLimit": 2048000,
                        "rowLimit": 10000
                    },
                    "inputWidgets": {},
                    "nuid": "2e50cf7b-0eb0-4d36-91de-9cff38fc2d22",
                    "showTitle": false,
                    "title": ""
                },
                "extensions": {
                    "azuredatastudio": {
                        "views": []
                    }
                },
                "azdata_cell_guid": "93263a46-c8c3-45e5-abb3-e6f3cdc26e6d"
            },
            "outputs": [],
            "execution_count": null
        },
        {
            "cell_type": "markdown",
            "source": [
                "## Finishing"
            ],
            "metadata": {
                "application/vnd.databricks.v1+cell": {
                    "cellMetadata": {},
                    "inputWidgets": {},
                    "nuid": "b93b6263-eb58-449d-bd20-491f5a9973e1",
                    "showTitle": false,
                    "title": ""
                },
                "extensions": {
                    "azuredatastudio": {
                        "views": []
                    }
                },
                "azdata_cell_guid": "e1471e89-b618-4d47-b38f-ae7d61850685"
            }
        },
        {
            "cell_type": "markdown",
            "source": [
                "### Return period (from_datetime, to_datetime) covered by data read"
            ],
            "metadata": {
                "application/vnd.databricks.v1+cell": {
                    "cellMetadata": {},
                    "inputWidgets": {},
                    "nuid": "967a5bc0-9d9e-4c56-bb3e-d956cb8f1afa",
                    "showTitle": false,
                    "title": ""
                },
                "extensions": {
                    "azuredatastudio": {
                        "views": []
                    }
                },
                "azdata_cell_guid": "e593e196-d461-4155-9d8a-19845a7828bc"
            }
        },
        {
            "cell_type": "code",
            "source": [
                "# Run the main function to generate feedback timestamps\n",
                "notebook_output = storage_manager.generate_feedback_timestamps(\n",
                "    spark=spark, \n",
                "    view_name=cleaned_data_view, \n",
                "    feedback_column=None,\n",
                "    key_columns=key_columns\n",
                ")"
            ],
            "metadata": {
                "application/vnd.databricks.v1+cell": {
                    "cellMetadata": {
                        "byteLimit": 2048000,
                        "rowLimit": 10000
                    },
                    "inputWidgets": {},
                    "nuid": "9dfa98b8-3e37-4041-a75e-1e5b0a17058b",
                    "showTitle": false,
                    "title": ""
                },
                "extensions": {
                    "azuredatastudio": {
                        "views": []
                    }
                },
                "azdata_cell_guid": "a4dbb498-6c7a-4062-8972-5fa932e7c4e5"
            },
            "outputs": [],
            "execution_count": null
        },
        {
            "cell_type": "markdown",
            "source": [
                "## Exit the notebook"
            ],
            "metadata": {
                "application/vnd.databricks.v1+cell": {
                    "cellMetadata": {},
                    "inputWidgets": {},
                    "nuid": "06ebf856-181a-432a-b387-22bb1515dcb6",
                    "showTitle": false,
                    "title": ""
                },
                "extensions": {
                    "azuredatastudio": {
                        "views": []
                    }
                },
                "azdata_cell_guid": "0b36a96a-493b-4da3-af12-bbaaa461541a"
            }
        },
        {
            "cell_type": "code",
            "source": [
                "# Use dbutils to exit the notebook\n",
                "dbutils.notebook.exit(notebook_output)"
            ],
            "metadata": {
                "application/vnd.databricks.v1+cell": {
                    "cellMetadata": {
                        "byteLimit": 2048000,
                        "rowLimit": 10000
                    },
                    "inputWidgets": {},
                    "nuid": "1c83a0d3-54c7-43aa-9009-a6b482fae7b7",
                    "showTitle": false,
                    "title": ""
                },
                "extensions": {
                    "azuredatastudio": {
                        "views": []
                    }
                },
                "azdata_cell_guid": "dc1c6705-189d-45da-801c-234ec1f17b67"
            },
            "outputs": [],
            "execution_count": null
        }
    ]
}