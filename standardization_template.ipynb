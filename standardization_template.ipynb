{
    "metadata": {
        "kernelspec": {
            "name": "SQL",
            "display_name": "SQL",
            "language": "sql"
        },
        "language_info": {
            "name": "sql",
            "version": ""
        },
        "application/vnd.databricks.v1+notebook": {
            "dashboards": [],
            "environmentMetadata": {
                "base_environment": "",
                "client": "1"
            },
            "language": "python",
            "notebookMetadata": {
                "mostRecentlyExecutedCommandWithImplicitDF": {
                    "commandId": 1651483203584302,
                    "dataframes": [
                        "_sqldf"
                    ]
                },
                "pythonIndentUnit": 4
            },
            "notebookName": "s-data_group__entityname_v3",
            "widgets": {
                "DepthLevel": {
                    "currentValue": "1",
                    "nuid": "a243f59a-499e-4691-a947-f10921b8e64c",
                    "typedWidgetInfo": {
                        "autoCreated": false,
                        "defaultValue": "",
                        "label": "Depth Level",
                        "name": "DepthLevel",
                        "options": {
                            "widgetDisplayType": "Text",
                            "validationRegex": null
                        },
                        "parameterDataType": "String"
                    },
                    "widgetInfo": {
                        "widgetType": "text",
                        "defaultValue": "",
                        "label": "Depth Level",
                        "name": "DepthLevel",
                        "options": {
                            "widgetType": "text",
                            "autoCreated": null,
                            "validationRegex": null
                        }
                    }
                },
                "DestinationStorageAccount": {
                    "currentValue": "dpuniformstoragetest",
                    "nuid": "f9bda907-b660-4235-83fc-c51e480d7921",
                    "typedWidgetInfo": {
                        "autoCreated": false,
                        "defaultValue": "dpuniformstoragetest",
                        "label": "Destination Storage Account",
                        "name": "DestinationStorageAccount",
                        "options": {
                            "widgetDisplayType": "Text",
                            "validationRegex": null
                        },
                        "parameterDataType": "String"
                    },
                    "widgetInfo": {
                        "widgetType": "text",
                        "defaultValue": "dpuniformstoragetest",
                        "label": "Destination Storage Account",
                        "name": "DestinationStorageAccount",
                        "options": {
                            "widgetType": "text",
                            "autoCreated": null,
                            "validationRegex": null
                        }
                    }
                },
                "FeedbackColumn": {
                    "currentValue": "EventTimestamp",
                    "nuid": "cd30b1cc-4e51-49f6-aa6e-cc35459dd889",
                    "typedWidgetInfo": {
                        "autoCreated": false,
                        "defaultValue": "EventTimestamp",
                        "label": "Feedback Column",
                        "name": "FeedbackColumn",
                        "options": {
                            "widgetDisplayType": "Text",
                            "validationRegex": null
                        },
                        "parameterDataType": "String"
                    },
                    "widgetInfo": {
                        "widgetType": "text",
                        "defaultValue": "EventTimestamp",
                        "label": "Feedback Column",
                        "name": "FeedbackColumn",
                        "options": {
                            "widgetType": "text",
                            "autoCreated": null,
                            "validationRegex": null
                        }
                    }
                },
                "KeyColumns": {
                    "currentValue": "Guid",
                    "nuid": "f35480ff-4280-4b76-92c5-d15295b4ea31",
                    "typedWidgetInfo": {
                        "autoCreated": false,
                        "defaultValue": "Guid",
                        "label": "Key Columns",
                        "name": "KeyColumns",
                        "options": {
                            "widgetDisplayType": "Text",
                            "validationRegex": null
                        },
                        "parameterDataType": "String"
                    },
                    "widgetInfo": {
                        "widgetType": "text",
                        "defaultValue": "Guid",
                        "label": "Key Columns",
                        "name": "KeyColumns",
                        "options": {
                            "widgetType": "text",
                            "autoCreated": null,
                            "validationRegex": null
                        }
                    }
                },
                "SchemaFolderName": {
                    "currentValue": "schemachecks",
                    "nuid": "3ca4efd4-f1cf-4e05-918f-4afdb030ca3d",
                    "typedWidgetInfo": {
                        "autoCreated": false,
                        "defaultValue": "schemachecks",
                        "label": "Schema Folder Name",
                        "name": "SchemaFolderName",
                        "options": {
                            "widgetDisplayType": "Text",
                            "validationRegex": null
                        },
                        "parameterDataType": "String"
                    },
                    "widgetInfo": {
                        "widgetType": "text",
                        "defaultValue": "schemachecks",
                        "label": "Schema Folder Name",
                        "name": "SchemaFolderName",
                        "options": {
                            "widgetType": "text",
                            "autoCreated": null,
                            "validationRegex": null
                        }
                    }
                },
                "SourceContainer": {
                    "currentValue": "landing",
                    "nuid": "07b4d523-cee9-437a-ae7a-46fa08d107fd",
                    "typedWidgetInfo": {
                        "autoCreated": false,
                        "defaultValue": "landing",
                        "label": "Source Container",
                        "name": "SourceContainer",
                        "options": {
                            "widgetDisplayType": "Text",
                            "validationRegex": null
                        },
                        "parameterDataType": "String"
                    },
                    "widgetInfo": {
                        "widgetType": "text",
                        "defaultValue": "landing",
                        "label": "Source Container",
                        "name": "SourceContainer",
                        "options": {
                            "widgetType": "text",
                            "autoCreated": null,
                            "validationRegex": null
                        }
                    }
                },
                "SourceDatasetidentifier": {
                    "currentValue": "triton__flow_plans",
                    "nuid": "35e7726b-82ab-4d0c-a01c-4d1974e3aa4e",
                    "typedWidgetInfo": {
                        "autoCreated": false,
                        "defaultValue": "triton__flow_plans",
                        "label": "Source Datasetidentifier",
                        "name": "SourceDatasetidentifier",
                        "options": {
                            "widgetDisplayType": "Text",
                            "validationRegex": null
                        },
                        "parameterDataType": "String"
                    },
                    "widgetInfo": {
                        "widgetType": "text",
                        "defaultValue": "triton__flow_plans",
                        "label": "Source Datasetidentifier",
                        "name": "SourceDatasetidentifier",
                        "options": {
                            "widgetType": "text",
                            "autoCreated": null,
                            "validationRegex": null
                        }
                    }
                },
                "SourceFileName": {
                    "currentValue": "*",
                    "nuid": "d08a3208-5e77-4e76-9675-792aa688c1b1",
                    "typedWidgetInfo": {
                        "autoCreated": false,
                        "defaultValue": "*",
                        "label": "Source File Name",
                        "name": "SourceFileName",
                        "options": {
                            "widgetDisplayType": "Text",
                            "validationRegex": null
                        },
                        "parameterDataType": "String"
                    },
                    "widgetInfo": {
                        "widgetType": "text",
                        "defaultValue": "*",
                        "label": "Source File Name",
                        "name": "SourceFileName",
                        "options": {
                            "widgetType": "text",
                            "autoCreated": null,
                            "validationRegex": null
                        }
                    }
                },
                "SourceStorageAccount": {
                    "currentValue": "dplandingstoragetest",
                    "nuid": "b6200beb-3d4b-404c-bd3c-5d37816a6007",
                    "typedWidgetInfo": {
                        "autoCreated": false,
                        "defaultValue": "dplandingstoragetest",
                        "label": "Source Storage Account",
                        "name": "SourceStorageAccount",
                        "options": {
                            "widgetDisplayType": "Text",
                            "validationRegex": null
                        },
                        "parameterDataType": "String"
                    },
                    "widgetInfo": {
                        "widgetType": "text",
                        "defaultValue": "dplandingstoragetest",
                        "label": "Source Storage Account",
                        "name": "SourceStorageAccount",
                        "options": {
                            "widgetType": "text",
                            "autoCreated": null,
                            "validationRegex": null
                        }
                    }
                }
            }
        },
        "extensions": {
            "azuredatastudio": {
                "version": 1,
                "views": []
            }
        }
    },
    "nbformat_minor": 2,
    "nbformat": 4,
    "cells": [
        {
            "cell_type": "markdown",
            "source": [
                "\n",
                "# JSON Standardization and Flattening\n",
                "This notebook is responsible for standardizing and flattening JSON files. It reads the raw JSON data from the landing zone, applies a schema for validation, flattens nested structures, and then writes the transformed data as Delta Parquet files.\n",
                "\n",
                "Key Features:\n",
                "- Reads JSON files from the landing zone.\n",
                "- Applies a predefined schema for data validation (ensure the schema file is available at landing/schemachecks/[datasetidentifier]/[datasetidentifier]_schema.json).\n",
                "- Flattens nested JSON structures for easier querying and analysis.\n",
                "- Saves the processed data as Delta Parquet files for efficient storage and querying."
            ],
            "metadata": {
                "application/vnd.databricks.v1+cell": {
                    "cellMetadata": {},
                    "inputWidgets": {},
                    "nuid": "885d4802-5384-48d9-84d9-003537edafd0",
                    "showTitle": false,
                    "title": ""
                },
                "extensions": {
                    "azuredatastudio": {
                        "views": []
                    }
                },
                "azdata_cell_guid": "7b751439-1a23-4894-bd74-e09ffabcaab9"
            }
        },
        {
            "cell_type": "markdown",
            "source": [
                "## Widget Initialization and Configuration"
            ],
            "metadata": {
                "application/vnd.databricks.v1+cell": {
                    "cellMetadata": {},
                    "inputWidgets": {},
                    "nuid": "4dbb37ce-38e1-411b-aa60-83670517ba13",
                    "showTitle": false,
                    "title": ""
                },
                "extensions": {
                    "azuredatastudio": {
                        "views": []
                    }
                },
                "azdata_cell_guid": "6d2bf67f-a7cb-41a1-bbd0-d0e5944e60ec"
            }
        },
        {
            "cell_type": "code",
            "source": [
                "# Source and Destination Storage Accounts\n",
                "dbutils.widgets.text(\"SourceStorageAccount\", \"dplandingstoragetest\", \"Source Storage Account\")\n",
                "dbutils.widgets.text(\"DestinationStorageAccount\", \"dpuniformstoragetest\", \"Destination Storage Account\")\n",
                "\n",
                "# Source container and dataset identifier\n",
                "dbutils.widgets.text(\"SourceContainer\", \"landing\", \"Source Container\")\n",
                "dbutils.widgets.text(\"SourceDatasetidentifier\", \"triton__flow_plans\", \"Source Datasetidentifier\")\n",
                "\n",
                "# Source file and key columns\n",
                "dbutils.widgets.text(\"SourceFileName\", \"*\", \"Source File Name\")\n",
                "dbutils.widgets.text(\"KeyColumns\", \"Guid\", \"Key Columns\")\n",
                "\n",
                "# Feedback column and flattening option\n",
                "dbutils.widgets.text(\"FeedbackColumn\", \"EventTimestamp\", \"Feedback Column\")\n",
                "dbutils.widgets.text(\"DepthLevel\", \"\", \"Depth Level\")\n",
                "dbutils.widgets.text(\"SchemaFolderName\", \"schemachecks\", \"Schema Folder Name\")"
            ],
            "metadata": {
                "application/vnd.databricks.v1+cell": {
                    "cellMetadata": {
                        "byteLimit": 2048000,
                        "rowLimit": 10000
                    },
                    "inputWidgets": {},
                    "nuid": "94264441-9229-46de-9ba8-6c8bdff25add",
                    "showTitle": false,
                    "title": ""
                },
                "extensions": {
                    "azuredatastudio": {
                        "views": []
                    }
                },
                "azdata_cell_guid": "afd1ee44-905d-4e4c-a10d-69e7b42bf514"
            },
            "outputs": [],
            "execution_count": null
        },
        {
            "cell_type": "markdown",
            "source": [
                "## Setup"
            ],
            "metadata": {
                "application/vnd.databricks.v1+cell": {
                    "cellMetadata": {},
                    "inputWidgets": {},
                    "nuid": "88bd02df-807a-4166-a189-2a088dddc7d1",
                    "showTitle": false,
                    "title": ""
                },
                "extensions": {
                    "azuredatastudio": {
                        "views": []
                    }
                },
                "azdata_cell_guid": "e3c68971-e676-4232-a1aa-c0b930e98349"
            }
        },
        {
            "cell_type": "markdown",
            "source": [
                "### Package Installation and Management"
            ],
            "metadata": {
                "application/vnd.databricks.v1+cell": {
                    "cellMetadata": {},
                    "inputWidgets": {},
                    "nuid": "902db38c-d74e-4531-8935-0360c9336e03",
                    "showTitle": false,
                    "title": ""
                },
                "extensions": {
                    "azuredatastudio": {
                        "views": []
                    }
                },
                "azdata_cell_guid": "24226880-7ee6-4530-8d79-c4a5f7129bb7"
            }
        },
        {
            "cell_type": "code",
            "source": [
                "# Install necessary packages\n",
                "# Ensure to use the specific versions needed.\n",
                "\n",
                "# Uninstall the existing package version (uncomment if a previous version is present).\n",
                "# %pip uninstall databricks-custom-utils -y\n",
                "\n",
                "# Install the package from the GitHub repository's specified branch.\n",
                "%pip install git+https://github.com/xazms/utils-databricks.git@v0.6.4\n",
                "%pip install sqlparse"
            ],
            "metadata": {
                "application/vnd.databricks.v1+cell": {
                    "cellMetadata": {
                        "byteLimit": 2048000,
                        "rowLimit": 10000
                    },
                    "inputWidgets": {},
                    "nuid": "d4f7118a-4054-4e28-ac04-c9942b9622c3",
                    "showTitle": false,
                    "title": ""
                },
                "extensions": {
                    "azuredatastudio": {
                        "views": []
                    }
                },
                "azdata_cell_guid": "d6cff59b-6561-4ba7-b68b-93fea6867643"
            },
            "outputs": [],
            "execution_count": null
        },
        {
            "cell_type": "markdown",
            "source": [
                "### Initialize notebook and get parameters"
            ],
            "metadata": {
                "application/vnd.databricks.v1+cell": {
                    "cellMetadata": {},
                    "inputWidgets": {},
                    "nuid": "9fe0fe40-e8a1-4a4a-98a2-d426bdf66636",
                    "showTitle": false,
                    "title": ""
                },
                "extensions": {
                    "azuredatastudio": {
                        "views": []
                    }
                },
                "azdata_cell_guid": "1f8e0338-72ae-4e55-a709-7d4bbcb45679"
            }
        },
        {
            "cell_type": "code",
            "source": [
                "from custom_utils.config.config import Config\n",
                "\n",
                "# Initialize the Config object (Spark session is now auto-initialized inside Config)\n",
                "config = Config.initialize(dbutils=dbutils, debug=True)\n",
                "\n",
                "# Unpack parameters into the current scope\n",
                "config.unpack(globals())"
            ],
            "metadata": {
                "application/vnd.databricks.v1+cell": {
                    "cellMetadata": {
                        "byteLimit": 2048000,
                        "rowLimit": 10000
                    },
                    "inputWidgets": {},
                    "nuid": "f980a4d9-91ac-493f-8ba4-c52a8914d029",
                    "showTitle": false,
                    "title": ""
                },
                "extensions": {
                    "azuredatastudio": {
                        "views": []
                    }
                },
                "azdata_cell_guid": "321a3d06-d11b-451a-8b11-b5cf431d40d4"
            },
            "outputs": [],
            "execution_count": null
        },
        {
            "cell_type": "markdown",
            "source": [
                "### Verify paths and files"
            ],
            "metadata": {
                "application/vnd.databricks.v1+cell": {
                    "cellMetadata": {},
                    "inputWidgets": {},
                    "nuid": "a894f790-a8c1-4be8-bff3-e6ec2a87ae19",
                    "showTitle": false,
                    "title": ""
                },
                "extensions": {
                    "azuredatastudio": {
                        "views": []
                    }
                },
                "azdata_cell_guid": "e2cc99bb-1e77-45da-9a74-ba7c85591068"
            }
        },
        {
            "cell_type": "code",
            "source": [
                "from custom_utils.validation.validation import Validator\n",
                "\n",
                "# Initialize the Validator with the provided configuration and logger\n",
                "validator = Validator(config, logger=logger, debug=True)\n",
                "\n",
                "# Perform validation of schema and source paths, returning validated paths and file type.\n",
                "schema_file_path, data_file_path, matched_files, file_type = validator.verify_paths_and_files()"
            ],
            "metadata": {
                "application/vnd.databricks.v1+cell": {
                    "cellMetadata": {
                        "byteLimit": 2048000,
                        "rowLimit": 10000
                    },
                    "inputWidgets": {},
                    "nuid": "027fc098-4679-4a6d-9d68-d1b340db222d",
                    "showTitle": false,
                    "title": ""
                },
                "extensions": {
                    "azuredatastudio": {
                        "views": []
                    }
                },
                "azdata_cell_guid": "255f8c12-550f-4ed0-b66c-777fe6a5684d"
            },
            "outputs": [],
            "execution_count": null
        },
        {
            "cell_type": "markdown",
            "source": [
                "## Processing Workflow"
            ],
            "metadata": {
                "application/vnd.databricks.v1+cell": {
                    "cellMetadata": {},
                    "inputWidgets": {},
                    "nuid": "b98b13d8-14b9-4acf-8983-d8358c3d4dc8",
                    "showTitle": false,
                    "title": ""
                },
                "extensions": {
                    "azuredatastudio": {
                        "views": []
                    }
                },
                "azdata_cell_guid": "c0a9347b-568d-483b-826e-e8b88887c25c"
            }
        },
        {
            "cell_type": "markdown",
            "source": [
                "### Flattening and Processing Nested JSON Data"
            ],
            "metadata": {
                "application/vnd.databricks.v1+cell": {
                    "cellMetadata": {},
                    "inputWidgets": {},
                    "nuid": "771891eb-826b-4359-a504-5436ff0c0139",
                    "showTitle": false,
                    "title": ""
                },
                "extensions": {
                    "azuredatastudio": {
                        "views": []
                    }
                },
                "azdata_cell_guid": "3cab19d2-ae57-418b-8fc3-d0d3f913102d"
            }
        },
        {
            "cell_type": "code",
            "source": [
                "from pyspark.sql.functions import col\n",
                "from custom_utils.transformations.dataframe import DataFrameTransformer\n",
                "\n",
                "# Assuming DataFrameTransformer is the correct class name\n",
                "transformer = DataFrameTransformer(config=config, logger=logger, debug=True)\n",
                "\n",
                "# Call the process_and_flatten_json method using the transformer instance\n",
                "df, df_flattened = transformer.process_and_flatten_json(\n",
                "    schema_file_path=schema_file_path,\n",
                "    data_file_path=data_file_path,\n",
                "    depth_level=depth_level,  # Set appropriate depth level if needed\n",
                "    include_schema=False  # Optional: set to True if you want to include schema in logs\n",
                ")\n",
                "\n",
                "# Optionally: Rename the column \"Timestamp\" to \"EventTimestamp\" and cast it to timestamp\n",
                "df_flattened = df_flattened.withColumnRenamed(\"Timestamp\", \"EventTimestamp\") \\\n",
                "                           .withColumn(\"EventTimestamp\", col(\"EventTimestamp\").cast(\"timestamp\"))\n",
                "\n",
                "# Display the flattened DataFrame to verify the result (useful in Databricks or Jupyter)\n",
                "display(df_flattened)"
            ],
            "metadata": {
                "application/vnd.databricks.v1+cell": {
                    "cellMetadata": {
                        "byteLimit": 2048000,
                        "rowLimit": 10000
                    },
                    "inputWidgets": {},
                    "nuid": "10595b9a-ae4b-44b8-861b-1841d00fcc78",
                    "showTitle": false,
                    "title": ""
                },
                "extensions": {
                    "azuredatastudio": {
                        "views": []
                    }
                },
                "azdata_cell_guid": "4af1f2e2-f6ed-4236-b7b9-c9c7a9183f61"
            },
            "outputs": [],
            "execution_count": null
        },
        {
            "cell_type": "markdown",
            "source": [
                "## Quality check "
            ],
            "metadata": {
                "application/vnd.databricks.v1+cell": {
                    "cellMetadata": {},
                    "inputWidgets": {},
                    "nuid": "9b3c28ce-8735-463d-87e0-d5c24766e39f",
                    "showTitle": false,
                    "title": ""
                },
                "extensions": {
                    "azuredatastudio": {
                        "views": []
                    }
                },
                "azdata_cell_guid": "5c53e2a7-89b4-4c94-a6b1-c21c6316d9c0"
            }
        },
        {
            "cell_type": "markdown",
            "source": [
                "### Abort if duplicates exists in new data"
            ],
            "metadata": {
                "application/vnd.databricks.v1+cell": {
                    "cellMetadata": {},
                    "inputWidgets": {},
                    "nuid": "ed7d3059-0a9d-4564-8ade-05eb28ae15e0",
                    "showTitle": false,
                    "title": ""
                },
                "extensions": {
                    "azuredatastudio": {
                        "views": []
                    }
                },
                "azdata_cell_guid": "0bc2ee23-c233-4178-8f7e-e80bde8c07d9"
            }
        },
        {
            "cell_type": "code",
            "source": [
                "from custom_utils.quality.quality import DataQualityManager\n",
                "from pyspark.sql import SparkSession\n",
                "\n",
                "# Initialize the DataQualityManager class\n",
                "quality_manager = DataQualityManager(logger=logger, debug=True)\n",
                "\n",
                "# Describe available quality checks\n",
                "quality_manager.describe_available_checks()\n",
                "\n",
                "# Executing Data Quality Checks on Flattened DataFrame\n",
                "cleaned_data_view = quality_manager.perform_data_quality_checks(\n",
                "    spark=spark,\n",
                "    df=df_flattened,\n",
                "    key_columns=key_columns,\n",
                "    order_by=['EventTimestamp'],\n",
                "    join_column=key_columns,\n",
                "    columns_to_exclude=['input_file_name'],\n",
                "    use_python=False # Set to True to use Python DataFrame operations; False for SQL\n",
                ")"
            ],
            "metadata": {
                "application/vnd.databricks.v1+cell": {
                    "cellMetadata": {
                        "byteLimit": 2048000,
                        "rowLimit": 10000
                    },
                    "inputWidgets": {},
                    "nuid": "ec843a58-9332-4811-b801-f5a19d4d4a7a",
                    "showTitle": false,
                    "title": ""
                },
                "extensions": {
                    "azuredatastudio": {
                        "views": []
                    }
                },
                "azdata_cell_guid": "0244f1fe-7170-4074-a12f-af6c7387ecb8"
            },
            "outputs": [],
            "execution_count": null
        },
        {
            "cell_type": "markdown",
            "source": [
                "## Write"
            ],
            "metadata": {
                "application/vnd.databricks.v1+cell": {
                    "cellMetadata": {},
                    "inputWidgets": {},
                    "nuid": "b88c2a2f-e8d7-479a-b9fd-524237bab500",
                    "showTitle": false,
                    "title": ""
                },
                "extensions": {
                    "azuredatastudio": {
                        "views": []
                    }
                },
                "azdata_cell_guid": "943397ce-b4b6-44f3-b77e-eb5303bf558a"
            }
        },
        {
            "cell_type": "markdown",
            "source": [
                "### Unified Data Storage Management: Table Creation and Data Merging"
            ],
            "metadata": {
                "application/vnd.databricks.v1+cell": {
                    "cellMetadata": {},
                    "inputWidgets": {},
                    "nuid": "90b8d941-6c78-49ec-af04-118edf0e8f7f",
                    "showTitle": false,
                    "title": ""
                },
                "extensions": {
                    "azuredatastudio": {
                        "views": []
                    }
                },
                "azdata_cell_guid": "d9129374-f410-4bb9-b456-3ea6515db5ad"
            }
        },
        {
            "cell_type": "code",
            "source": [
                "from custom_utils.catalog.catalog_utils import DataStorageManager\n",
                "\n",
                "# Initialize the DataStorageManager class\n",
                "storage_manager = DataStorageManager(logger=logger, debug=True)\n",
                "\n",
                "storage_manager.manage_data_operation(\n",
                "    spark=spark,\n",
                "    dbutils=dbutils,\n",
                "    destination_environment=destination_environment,\n",
                "    source_datasetidentifier=source_datasetidentifier,\n",
                "    cleaned_data_view=cleaned_data_view,\n",
                "    key_columns=key_columns,\n",
                "    use_python=False  # Set to True to use Python DataFrame operations; False for SQL\n",
                ")"
            ],
            "metadata": {
                "application/vnd.databricks.v1+cell": {
                    "cellMetadata": {
                        "byteLimit": 2048000,
                        "rowLimit": 10000
                    },
                    "inputWidgets": {},
                    "nuid": "c5386e77-1381-41a7-aae3-7bd3029c844f",
                    "showTitle": false,
                    "title": ""
                },
                "extensions": {
                    "azuredatastudio": {
                        "views": []
                    }
                },
                "azdata_cell_guid": "652c838a-279d-4d40-afa9-93adad91c546"
            },
            "outputs": [],
            "execution_count": null
        },
        {
            "cell_type": "markdown",
            "source": [
                "## Finishing"
            ],
            "metadata": {
                "application/vnd.databricks.v1+cell": {
                    "cellMetadata": {},
                    "inputWidgets": {},
                    "nuid": "708335a8-3deb-4835-ad1f-1c1baecaef32",
                    "showTitle": false,
                    "title": ""
                },
                "extensions": {
                    "azuredatastudio": {
                        "views": []
                    }
                },
                "azdata_cell_guid": "4071fdd7-c019-45aa-9487-34826b6d0e5a"
            }
        },
        {
            "cell_type": "markdown",
            "source": [
                "### Return period (from_datetime, to_datetime) covered by data read"
            ],
            "metadata": {
                "application/vnd.databricks.v1+cell": {
                    "cellMetadata": {},
                    "inputWidgets": {},
                    "nuid": "a8e9980e-5621-400b-a5ce-fca359e96fff",
                    "showTitle": false,
                    "title": ""
                },
                "extensions": {
                    "azuredatastudio": {
                        "views": []
                    }
                },
                "azdata_cell_guid": "972bba15-c3f0-495f-927b-73de068b5180"
            }
        },
        {
            "cell_type": "code",
            "source": [
                "# Run the main function to generate feedback timestamps\n",
                "notebook_output = storage_manager.generate_feedback_timestamps(\n",
                "    spark=spark, \n",
                "    view_name=cleaned_data_view, \n",
                "    feedback_column=feedback_column\n",
                ")"
            ],
            "metadata": {
                "application/vnd.databricks.v1+cell": {
                    "cellMetadata": {
                        "byteLimit": 2048000,
                        "rowLimit": 10000
                    },
                    "inputWidgets": {},
                    "nuid": "743d14cc-c9d3-427f-918a-e741886e282b",
                    "showTitle": false,
                    "title": ""
                },
                "extensions": {
                    "azuredatastudio": {
                        "views": []
                    }
                },
                "azdata_cell_guid": "2287b391-03b5-46ed-9074-79d3867d3596"
            },
            "outputs": [],
            "execution_count": null
        },
        {
            "cell_type": "markdown",
            "source": [
                "### Exit the notebook "
            ],
            "metadata": {
                "application/vnd.databricks.v1+cell": {
                    "cellMetadata": {},
                    "inputWidgets": {},
                    "nuid": "bc31b43c-3731-44d8-af22-1ed930832914",
                    "showTitle": false,
                    "title": ""
                },
                "extensions": {
                    "azuredatastudio": {
                        "views": []
                    }
                },
                "azdata_cell_guid": "a2492815-7e9a-44d8-ae42-8a5a0523d2c0"
            }
        },
        {
            "cell_type": "code",
            "source": [
                "# Use dbutils to exit the notebook\n",
                "dbutils.notebook.exit(notebook_output)"
            ],
            "metadata": {
                "application/vnd.databricks.v1+cell": {
                    "cellMetadata": {
                        "byteLimit": 2048000,
                        "rowLimit": 10000
                    },
                    "inputWidgets": {},
                    "nuid": "da4f1189-7323-4527-8641-169b05d5220d",
                    "showTitle": false,
                    "title": ""
                },
                "extensions": {
                    "azuredatastudio": {
                        "views": []
                    }
                },
                "azdata_cell_guid": "9438a736-c0f6-4c10-ac80-e66a57a4177b"
            },
            "outputs": [],
            "execution_count": null
        }
    ]
}